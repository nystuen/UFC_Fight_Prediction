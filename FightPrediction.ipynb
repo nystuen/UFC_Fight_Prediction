{
  "nbformat": 4,
  "nbformat_minor": 0,
  "metadata": {
    "colab": {
      "name": "FightPrediction.ipynb",
      "provenance": [],
      "collapsed_sections": [],
      "include_colab_link": true
    },
    "kernelspec": {
      "name": "python3",
      "display_name": "Python 3"
    },
    "accelerator": "GPU"
  },
  "cells": [
    {
      "cell_type": "markdown",
      "metadata": {
        "id": "view-in-github",
        "colab_type": "text"
      },
      "source": [
        "<a href=\"https://colab.research.google.com/github/nystuen/UFC_Fight_Prediction/blob/master/FightPrediction.ipynb\" target=\"_parent\"><img src=\"https://colab.research.google.com/assets/colab-badge.svg\" alt=\"Open In Colab\"/></a>"
      ]
    },
    {
      "cell_type": "markdown",
      "metadata": {
        "id": "4JiaZV4rElSP",
        "colab_type": "text"
      },
      "source": [
        "# Imports"
      ]
    },
    {
      "cell_type": "code",
      "metadata": {
        "id": "RmPygNbaq-er",
        "colab_type": "code",
        "colab": {}
      },
      "source": [
        "import pandas as pd\n",
        "import numpy as np\n",
        "import tensorflow as tf\n",
        "import matplotlib.pyplot as plt\n",
        "import keras\n",
        "\n",
        "# Models\n",
        "from keras.models import Sequential\n",
        "from sklearn.linear_model import LogisticRegression\n",
        "from sklearn.svm import SVC, LinearSVC\n",
        "from sklearn.ensemble import ExtraTreesClassifier\n",
        "from sklearn.ensemble import RandomForestClassifier\n",
        "from sklearn.linear_model import Perceptron\n",
        "from sklearn.neural_network import MLPClassifier\n",
        "from xgboost import XGBClassifier\n",
        "\n",
        "from sklearn.feature_selection import SelectKBest\n",
        "from sklearn.feature_selection import chi2\n",
        "from sklearn.feature_selection import f_classif\n",
        "from keras.layers import Dense,Activation\n",
        "from sklearn.model_selection import train_test_split\n",
        "from sklearn.preprocessing import StandardScaler\n",
        "from keras.layers import Dense, Activation, Flatten\n",
        "from sklearn.metrics import f1_score\n",
        "from sklearn.metrics import accuracy_score\n",
        "from keras.callbacks import ModelCheckpoint\n",
        "from sklearn.metrics import accuracy_score\n"
      ],
      "execution_count": 0,
      "outputs": []
    },
    {
      "cell_type": "markdown",
      "metadata": {
        "id": "Lisz8VKJidC-",
        "colab_type": "text"
      },
      "source": [
        "# Generate dataset\n"
      ]
    },
    {
      "cell_type": "code",
      "metadata": {
        "id": "NAfibKfdi2Jk",
        "colab_type": "code",
        "colab": {}
      },
      "source": [
        "results = {}\n",
        "df = pd.read_csv(\n",
        "    \"https://raw.githubusercontent.com/nystuen/UFC_Fight_Prediction/master/preprocessed_data.csv\")\n",
        "\n",
        "scaler = StandardScaler()\n",
        "df = df.drop(columns = ['B_Stance_Sideways'])\n",
        "df_num = df.select_dtypes(include=[np.float, np.int])\n",
        "df['Winner'] = (df['Winner'] != 'Red').astype(int)\n",
        "df['title_bout'] = (df['title_bout']).astype(int)\n",
        "#df[list(df_num.columns)] = scaler.fit_transform(df[list(df_num.columns)])\n",
        "\n",
        "def swap_data_frame(swap_data):\n",
        "    cols = list(swap_data.columns)\n",
        "    b_cols = [i for i in cols if i[0]=='B']\n",
        "    for b_c in b_cols:\n",
        "        r_c = 'R'+b_c[1:]\n",
        "        b_index = cols.index(b_c)\n",
        "        r_index = cols.index(r_c)\n",
        "        cols[b_index], cols[r_index] = cols[r_index], cols[b_index]\n",
        "    swap_data.columns = cols\n",
        "    return swap_data\n",
        "\n",
        "def generateDoubleDatasetWithSwappedColors():\n",
        "  global df\n",
        "  swap_data = df.copy()\n",
        "  swap_data = swap_data_frame(swap_data)\n",
        "  swap_data['Winner'] = swap_data['Winner'].replace([0,1],[1,0])\n",
        "  frames = [df,swap_data]\n",
        "  concat_data = pd.concat(frames)\n",
        "  concat_correct = concat_data.copy()\n",
        "  df = concat_correct\n",
        "  y = concat_correct['Winner']\n",
        "  print(y.value_counts())\n",
        "  X = concat_correct.drop(columns = ['Winner'])\n",
        "  x_train, x_test, y_train, y_test = train_test_split(X, y, test_size=0.15, random_state=12)\n",
        "  print(y_test.value_counts())\n",
        "\n",
        "  return y, X, x_train, x_test, y_train, y_test\n",
        "\n",
        "def generateOldDatasetWithoutSwappedColors():\n",
        "  y = df['Winner']\n",
        "  X = df.drop(columns = ['Winner'])\n",
        "  x_train, x_test, y_train, y_test = train_test_split(X, y, test_size=0.05, random_state=10)\n",
        "  return y, X, x_train, x_test, y_train, y_test\n"
      ],
      "execution_count": 0,
      "outputs": []
    },
    {
      "cell_type": "code",
      "metadata": {
        "id": "AQe5rQtcmdel",
        "colab_type": "code",
        "outputId": "5fba9190-cae9-4469-e4f3-afbb767e6d9f",
        "colab": {
          "base_uri": "https://localhost:8080/",
          "height": 238
        }
      },
      "source": [
        "generateDoubleDataSet = True\n",
        "\n",
        "if generateDoubleDataSet:\n",
        "  y, X, x_train, x_test, y_train, y_test = generateDoubleDatasetWithSwappedColors()\n",
        "else:\n",
        "  y, X, x_train, x_test, y_train, y_test = generateOldDatasetWithoutSwappedColors()"
      ],
      "execution_count": 0,
      "outputs": [
        {
          "output_type": "stream",
          "text": [
            "1    3592\n",
            "0    3592\n",
            "Name: Winner, dtype: int64\n",
            "0    555\n",
            "1    523\n",
            "Name: Winner, dtype: int64\n"
          ],
          "name": "stdout"
        },
        {
          "output_type": "stream",
          "text": [
            "/usr/local/lib/python3.6/dist-packages/ipykernel_launcher.py:29: FutureWarning: Sorting because non-concatenation axis is not aligned. A future version\n",
            "of pandas will change to not sort by default.\n",
            "\n",
            "To accept the future behavior, pass 'sort=False'.\n",
            "\n",
            "To retain the current behavior and silence the warning, pass 'sort=True'.\n",
            "\n"
          ],
          "name": "stderr"
        }
      ]
    },
    {
      "cell_type": "code",
      "metadata": {
        "id": "rIsfdVF4BKyO",
        "colab_type": "code",
        "colab": {}
      },
      "source": [
        ""
      ],
      "execution_count": 0,
      "outputs": []
    },
    {
      "cell_type": "markdown",
      "metadata": {
        "id": "O1brEPrHen1e",
        "colab_type": "text"
      },
      "source": [
        "# Defining functions for training classifiers"
      ]
    },
    {
      "cell_type": "code",
      "metadata": {
        "id": "pTl_YdoSWjYS",
        "colab_type": "code",
        "colab": {}
      },
      "source": [
        "allClassifiers = ['randomForest', 'extraTrees','supportVector', 'xgboost', 'multiLayerPerceptron']\n",
        "\n",
        "# Method for filling results dictionary\n",
        "def fillResults(classifierName, accuracy, oob_score=0, predictions=0):\n",
        "  results[classifierName] = {}\n",
        "  results[classifierName]['accuracy'] = accuracy\n",
        "\n",
        "  if oob_score != 0:\n",
        "    results[classifierName]['oob'] = oob_score\n",
        "\n",
        "  try:\n",
        "    if predictions != 0:\n",
        "      print('no predictions passed')\n",
        "  except:\n",
        "     results[classifierName]['predictions'] = predictions\n",
        "\n",
        "\n",
        "def trainAndReturnRandomForest(n_estimators=1000):\n",
        "  parameters = {'bootstrap': True,\n",
        "              'min_samples_leaf': 3,\n",
        "              'n_estimators': n_estimators, \n",
        "              'min_samples_split': 10,\n",
        "              'max_features': 'sqrt',\n",
        "              'max_depth': 15,\n",
        "              'max_leaf_nodes': None,\n",
        "              'oob_score': True}\n",
        "\n",
        "  RF_model = RandomForestClassifier(**parameters)\n",
        "  RF_model.fit(x_train, y_train)\n",
        "  RF_predictions = RF_model.predict(x_test)\n",
        "  RF_score = accuracy_score(y_test ,RF_predictions)\n",
        "  RF_oob_score = RF_model.oob_score_\n",
        "\n",
        "  fillResults('randomForest', RF_score, oob_score=RF_oob_score, predictions=RF_predictions)\n",
        "  print('oob_score:',RF_score)\n",
        "  print('score:',RF_score)\n",
        "  RF_predictions_2 = RF_model.predict(x_train)\n",
        "  RF_score_2 = accuracy_score(y_train ,RF_predictions_2)\n",
        "  print('Cross validation, RF_score_2:', RF_score_2)\n",
        "\n",
        "\n",
        "  return RF_model\n",
        "\n",
        "def trainAndReturnExtraTrees():\n",
        "  ET_parameters = {'bootstrap': False,\n",
        "              'min_samples_leaf': 3,\n",
        "              'n_estimators': 1000, \n",
        "              'min_samples_split': 10,\n",
        "              'max_features': 'sqrt',\n",
        "              'max_depth': 15,\n",
        "              'max_leaf_nodes': None,\n",
        "              'oob_score': False}\n",
        "\n",
        "  ET_model = ExtraTreesClassifier(**ET_parameters)\n",
        "  ET_model.fit(x_train, y_train)\n",
        "  ET_predictions = ET_model.predict(x_test)\n",
        "  ET_score = accuracy_score(y_test ,ET_predictions)\n",
        " # ET_oob_score = ET_model.oob_score_\n",
        "\n",
        "  fillResults('extraTrees', ET_score, predictions=ET_predictions)\n",
        "  return ET_model\n",
        "\n",
        "def trainAndReturnSVC():\n",
        "  SVC_model = SVC(probability=True, gamma='scale')\n",
        "  SVC_model.fit(x_train, y_train)\n",
        "  SVC_predictions = SVC_model.predict(x_test)\n",
        "  SVC_score = accuracy_score(y_test, SVC_predictions)\n",
        "\n",
        "  fillResults('supportVector', SVC_score, predictions=SVC_predictions)\n",
        "  return SVC_model\n",
        "\n",
        "\n",
        "def trainAndReturnXGBoost():\n",
        "  XGB_model = XGBClassifier(early_stopping_rounds=2)\n",
        "  XGB_model.fit(x_train, y_train)\n",
        "  XGB_predictions = XGB_model.predict(x_test)\n",
        "  XGB_score = accuracy_score(y_test, XGB_predictions)\n",
        "\n",
        "  fillResults('xgboost', XGB_score, predictions=XGB_predictions)\n",
        "  return XGB_model\n",
        "\n",
        "def trainAndReturnMLP():\n",
        "  MLP_model = MLPClassifier(hidden_layer_sizes=(500,300,100,))\n",
        "  MLP_model.fit(x_train,y_train)\n",
        "  MLP_predictions = MLP_model.predict(x_test)\n",
        "  MLP_score = accuracy_score(y_test, MLP_predictions)\n",
        "\n",
        "  fillResults('multiLayerPerceptron', MLP_score, predictions=MLP_predictions)\n",
        "  return MLP_model\n",
        "\n",
        "\n",
        "def trainAllModelsAndFillResult():\n",
        "  trainAndReturnRandomForest()\n",
        "  trainAndReturnExtraTrees()\n",
        "  trainAndReturnSVC()\n",
        "  trainAndReturnXGBoost()\n",
        "  trainAndReturnMLP()\n",
        "\n",
        "  print(results)\n",
        "\n",
        "def trainAndFindBestET():\n",
        "  n_estimators = 50\n",
        "\n",
        "  models = []\n",
        "\n",
        "  for i in range(10, 2000, 50):\n",
        "      ET_parameters = {'bootstrap': False,\n",
        "              'min_samples_leaf': 3,\n",
        "              'n_estimators': 1000, \n",
        "              'min_samples_split': 10,\n",
        "              'max_features': 'sqrt',\n",
        "              'max_depth': 10 + (i/200),\n",
        "              'max_leaf_nodes': None,\n",
        "              'oob_score': False}\n",
        "\n",
        "      ET_model = ExtraTreesClassifier(**ET_parameters)\n",
        "      ET_model.fit(x_train, y_train)\n",
        "      ET_predictions = ET_model.predict(x_test)\n",
        "      ET_score = accuracy_score(y_test ,ET_predictions)\n",
        "      models.append((ET_model, ET_score, ET_predictions))\n",
        "      if ET_score > 0.65:\n",
        "        print('best model has acc:', best_model[1])\n",
        "        return ET_model\n",
        "      print('i:', i, ' accuracy: ', ET_score)\n",
        "\n",
        "  best_model = models[0]\n",
        "  for model in models:\n",
        "    if model[1] > best_model[1]:\n",
        "      best_model = model\n",
        "\n",
        "  fillResults('extraTrees', best_model[1], predictions=best_model[2])\n",
        "  print('Best ET model has acc:', best_model[1])\n",
        "  return best_model[0]\n",
        "\n",
        "\n"
      ],
      "execution_count": 0,
      "outputs": []
    },
    {
      "cell_type": "markdown",
      "metadata": {
        "id": "KVfSQxEV_UZk",
        "colab_type": "text"
      },
      "source": [
        "# Choosing and training model"
      ]
    },
    {
      "cell_type": "code",
      "metadata": {
        "id": "Jr4JTKM9_UL8",
        "colab_type": "code",
        "outputId": "99ee3c55-fc55-4ff4-b59e-a2233dcdfe92",
        "colab": {
          "base_uri": "https://localhost:8080/",
          "height": 139
        }
      },
      "source": [
        "trainAllModelsAndFillResult()"
      ],
      "execution_count": 0,
      "outputs": [
        {
          "output_type": "stream",
          "text": [
            "oob_score: 0.5705009276437848\n",
            "score: 0.5705009276437848\n",
            "Cross validation, RF_score_2: 0.9995086799868982\n",
            "{'randomForest': {'accuracy': 0.5705009276437848, 'oob': 0.5994104159842778, 'predictions': array([1, 1, 1, ..., 0, 0, 1])}, 'extraTrees': {'accuracy': 0.5890538033395176, 'predictions': array([1, 1, 1, ..., 0, 1, 1])}, 'supportVector': {'accuracy': 0.5667903525046383, 'predictions': array([1, 1, 1, ..., 0, 1, 1])}, 'xgboost': {'accuracy': 0.5862708719851577, 'predictions': array([1, 1, 1, ..., 0, 0, 1])}, 'multiLayerPerceptron': {'accuracy': 0.5769944341372912, 'predictions': array([1, 1, 1, ..., 1, 0, 1])}}\n"
          ],
          "name": "stdout"
        },
        {
          "output_type": "stream",
          "text": [
            "/usr/local/lib/python3.6/dist-packages/sklearn/neural_network/multilayer_perceptron.py:566: ConvergenceWarning: Stochastic Optimizer: Maximum iterations (200) reached and the optimization hasn't converged yet.\n",
            "  % self.max_iter, ConvergenceWarning)\n"
          ],
          "name": "stderr"
        }
      ]
    },
    {
      "cell_type": "code",
      "metadata": {
        "id": "FSEWGDnqBoZs",
        "colab_type": "code",
        "outputId": "76bae3a1-b5a4-4124-f9d0-12cf2bcc4de7",
        "colab": {
          "base_uri": "https://localhost:8080/",
          "height": 714
        }
      },
      "source": [
        "model = trainAndFindBestET()"
      ],
      "execution_count": 0,
      "outputs": [
        {
          "output_type": "stream",
          "text": [
            "i: 10  accuracy:  0.5927643784786641\n",
            "i: 60  accuracy:  0.5974025974025974\n",
            "i: 110  accuracy:  0.5769944341372912\n",
            "i: 160  accuracy:  0.5946196660482375\n",
            "i: 210  accuracy:  0.5918367346938775\n",
            "i: 260  accuracy:  0.5918367346938775\n",
            "i: 310  accuracy:  0.5992578849721707\n",
            "i: 360  accuracy:  0.5909090909090909\n",
            "i: 410  accuracy:  0.5964749536178108\n",
            "i: 460  accuracy:  0.5918367346938775\n",
            "i: 510  accuracy:  0.6001855287569573\n",
            "i: 560  accuracy:  0.5992578849721707\n",
            "i: 610  accuracy:  0.6001855287569573\n",
            "i: 660  accuracy:  0.5946196660482375\n",
            "i: 710  accuracy:  0.5909090909090909\n",
            "i: 760  accuracy:  0.5871985157699443\n",
            "i: 810  accuracy:  0.5955473098330241\n",
            "i: 860  accuracy:  0.5918367346938775\n",
            "i: 910  accuracy:  0.5936920222634509\n",
            "i: 960  accuracy:  0.5918367346938775\n",
            "i: 1010  accuracy:  0.5853432282003711\n",
            "i: 1060  accuracy:  0.6020408163265306\n",
            "i: 1110  accuracy:  0.5955473098330241\n",
            "i: 1160  accuracy:  0.5862708719851577\n",
            "i: 1210  accuracy:  0.5918367346938775\n",
            "i: 1260  accuracy:  0.5862708719851577\n",
            "i: 1310  accuracy:  0.5816326530612245\n",
            "i: 1360  accuracy:  0.6020408163265306\n",
            "i: 1410  accuracy:  0.5909090909090909\n",
            "i: 1460  accuracy:  0.5974025974025974\n",
            "i: 1510  accuracy:  0.601113172541744\n",
            "i: 1560  accuracy:  0.6001855287569573\n",
            "i: 1610  accuracy:  0.5862708719851577\n",
            "i: 1660  accuracy:  0.5983302411873841\n",
            "i: 1710  accuracy:  0.5871985157699443\n",
            "i: 1760  accuracy:  0.5909090909090909\n",
            "i: 1810  accuracy:  0.5946196660482375\n",
            "i: 1860  accuracy:  0.5909090909090909\n",
            "i: 1910  accuracy:  0.5899814471243042\n",
            "i: 1960  accuracy:  0.5983302411873841\n",
            "Best ET model has acc: 0.6020408163265306\n"
          ],
          "name": "stdout"
        }
      ]
    },
    {
      "cell_type": "markdown",
      "metadata": {
        "id": "Vh5RVqnM41Ax",
        "colab_type": "text"
      },
      "source": [
        "# Feature Selection"
      ]
    },
    {
      "cell_type": "markdown",
      "metadata": {
        "id": "zoruJsYX49TH",
        "colab_type": "text"
      },
      "source": [
        "Univariate selection"
      ]
    },
    {
      "cell_type": "code",
      "metadata": {
        "id": "3KjjRVXv5Arw",
        "colab_type": "code",
        "outputId": "848b494a-29d9-462d-db95-113aaad50382",
        "colab": {
          "base_uri": "https://localhost:8080/",
          "height": 884
        }
      },
      "source": [
        "#apply SelectKBest class to extract top 10 best features\n",
        "bestfeatures = SelectKBest(score_func=chi2, k=50)\n",
        "fit = bestfeatures.fit(X,y)\n",
        "dfscores = pd.DataFrame(fit.scores_)\n",
        "dfcolumns = pd.DataFrame(X.columns)\n",
        "#concat two dataframes for better visualization \n",
        "featureScores = pd.concat([dfcolumns,dfscores],axis=1)\n",
        "featureScores.columns = ['Specs','Score']  #naming the dataframe columns\n",
        "print(featureScores.nlargest(50,'Score'))  #print 10 best features"
      ],
      "execution_count": 0,
      "outputs": [
        {
          "output_type": "stream",
          "text": [
            "                            Specs       Score\n",
            "133  R_total_time_fought(seconds)  376.444225\n",
            "62   B_total_time_fought(seconds)  376.444225\n",
            "126    R_avg_opp_TOTAL_STR_landed  294.408236\n",
            "55     B_avg_opp_TOTAL_STR_landed  294.408236\n",
            "85               R_avg_GROUND_att  266.872815\n",
            "14               B_avg_GROUND_att  266.872815\n",
            "23              B_avg_SIG_STR_att  244.814929\n",
            "94              R_avg_SIG_STR_att  244.814929\n",
            "109          R_avg_opp_GROUND_att  223.489113\n",
            "38           B_avg_opp_GROUND_att  223.489113\n",
            "16                 B_avg_HEAD_att  201.140337\n",
            "87                 R_avg_HEAD_att  201.140337\n",
            "95           R_avg_SIG_STR_landed  187.076704\n",
            "24           B_avg_SIG_STR_landed  187.076704\n",
            "39        B_avg_opp_GROUND_landed  181.819970\n",
            "110       R_avg_opp_GROUND_landed  181.819970\n",
            "15            B_avg_GROUND_landed  175.808224\n",
            "86            R_avg_GROUND_landed  175.808224\n",
            "41          B_avg_opp_HEAD_landed  163.401672\n",
            "112         R_avg_opp_HEAD_landed  163.401672\n",
            "17              B_avg_HEAD_landed  160.216865\n",
            "88              R_avg_HEAD_landed  160.216865\n",
            "30            B_avg_TOTAL_STR_att  156.615064\n",
            "101           R_avg_TOTAL_STR_att  156.615064\n",
            "119      R_avg_opp_SIG_STR_landed  150.545479\n",
            "48       B_avg_opp_SIG_STR_landed  150.545479\n",
            "125       R_avg_opp_TOTAL_STR_att  136.582216\n",
            "54        B_avg_opp_TOTAL_STR_att  136.582216\n",
            "83             R_avg_DISTANCE_att   99.141068\n",
            "12             B_avg_DISTANCE_att   99.141068\n",
            "102        R_avg_TOTAL_STR_landed   91.896402\n",
            "31         B_avg_TOTAL_STR_landed   91.896402\n",
            "84          R_avg_DISTANCE_landed   70.077541\n",
            "13          B_avg_DISTANCE_landed   70.077541\n",
            "27                   B_avg_TD_att   59.195708\n",
            "98                   R_avg_TD_att   59.195708\n",
            "57           B_current_win_streak   50.088760\n",
            "128          R_current_win_streak   50.088760\n",
            "111            R_avg_opp_HEAD_att   45.584114\n",
            "40             B_avg_opp_HEAD_att   45.584114\n",
            "99                R_avg_TD_landed   41.357150\n",
            "28                B_avg_TD_landed   41.357150\n",
            "7                           B_age   40.426636\n",
            "78                          R_age   40.426636\n",
            "47          B_avg_opp_SIG_STR_att   40.220458\n",
            "118         R_avg_opp_SIG_STR_att   40.220458\n",
            "59           B_longest_win_streak   34.892062\n",
            "130          R_longest_win_streak   34.892062\n",
            "105          R_avg_opp_CLINCH_att   32.989423\n",
            "34           B_avg_opp_CLINCH_att   32.989423\n"
          ],
          "name": "stdout"
        }
      ]
    },
    {
      "cell_type": "markdown",
      "metadata": {
        "id": "umKbPhDn5EKs",
        "colab_type": "text"
      },
      "source": [
        "Feature importance"
      ]
    },
    {
      "cell_type": "code",
      "metadata": {
        "id": "y9tOnkfG5Hi1",
        "colab_type": "code",
        "outputId": "fcb07a26-dba3-48d2-e7e1-cb1d2f160c13",
        "colab": {
          "base_uri": "https://localhost:8080/",
          "height": 945
        }
      },
      "source": [
        "\n",
        "#model = RandomForestClassifier()\n",
        "#model.fit(X,y)\n",
        "print(model.feature_importances_) #use inbuilt class feature_importances of tree based classifiers\n",
        "#plot graph of feature importances for better visualization\n",
        "feat_importances = pd.Series(model.feature_importances_, index=X.columns)\n",
        "feat_importances.nlargest(20).plot(kind='barh')\n",
        "plt.show()"
      ],
      "execution_count": 0,
      "outputs": [
        {
          "output_type": "stream",
          "text": [
            "[6.51967874e-03 7.92715524e-03 1.56251988e-04 7.03481312e-03\n",
            " 6.54001850e-03 2.43224823e-03 5.76787127e-03 1.54865370e-02\n",
            " 6.08356239e-03 6.55252531e-03 6.28728137e-03 6.15592946e-03\n",
            " 6.15231151e-03 6.69621269e-03 7.77510503e-03 8.02627469e-03\n",
            " 7.39506021e-03 8.41211031e-03 6.12928962e-03 6.67285532e-03\n",
            " 6.86564737e-03 7.39400015e-03 5.51686835e-03 7.16254125e-03\n",
            " 8.02416950e-03 6.50182697e-03 6.39352323e-03 8.02904488e-03\n",
            " 8.75924899e-03 9.15636328e-03 7.12360665e-03 7.34237076e-03\n",
            " 6.11896132e-03 6.24648934e-03 6.30674489e-03 6.28226224e-03\n",
            " 5.77131949e-03 6.03488378e-03 7.88716681e-03 8.10109460e-03\n",
            " 5.72428349e-03 7.15798364e-03 7.32270824e-03 5.40079506e-03\n",
            " 5.79332629e-03 6.93293020e-03 5.04806507e-03 5.87589679e-03\n",
            " 6.82688115e-03 1.12160279e-02 6.18030885e-03 6.32746419e-03\n",
            " 6.69397372e-03 1.01426421e-02 6.22135286e-03 8.18990994e-03\n",
            " 6.23438173e-03 8.18622222e-03 0.00000000e+00 8.56931052e-03\n",
            " 7.85547015e-03 6.64434789e-03 7.24518914e-03 5.66716108e-03\n",
            " 1.66650300e-03 5.48440447e-03 6.83859152e-03 6.47415012e-03\n",
            " 6.70554949e-03 3.79498607e-03 7.89628890e-03 6.48205856e-03\n",
            " 7.86718020e-03 1.48699749e-04 7.48544162e-03 7.15321057e-03\n",
            " 2.00958142e-03 6.03769897e-03 1.69388322e-02 6.02439020e-03\n",
            " 6.49107680e-03 5.90304296e-03 5.94699391e-03 6.07561242e-03\n",
            " 6.38575658e-03 9.04058448e-03 8.29329087e-03 6.82698426e-03\n",
            " 8.29959815e-03 6.05000909e-03 6.86420960e-03 7.03290477e-03\n",
            " 7.66359244e-03 5.97832621e-03 6.82595512e-03 7.89581485e-03\n",
            " 6.51759943e-03 6.17122392e-03 8.43097853e-03 9.15745054e-03\n",
            " 9.23329733e-03 6.75826965e-03 6.66586982e-03 5.96799146e-03\n",
            " 6.06172309e-03 5.71070594e-03 6.01505967e-03 6.01611456e-03\n",
            " 5.81980072e-03 7.40198334e-03 7.31801567e-03 6.15208777e-03\n",
            " 7.02815035e-03 7.44299337e-03 5.42711992e-03 5.70550842e-03\n",
            " 7.48885358e-03 4.94427757e-03 5.87516349e-03 6.74480211e-03\n",
            " 1.00416078e-02 5.76276813e-03 6.07591190e-03 6.49350932e-03\n",
            " 1.04193730e-02 6.43366631e-03 7.72382027e-03 6.12906442e-03\n",
            " 9.59568575e-03 0.00000000e+00 8.78611997e-03 9.12340956e-03\n",
            " 6.51652328e-03 6.84871518e-03 6.03076753e-03 1.52632596e-03\n",
            " 6.97979518e-03 6.92781115e-03 6.64215569e-03 6.61888523e-03\n",
            " 3.47229308e-03 7.75608701e-03 4.49950218e-03 3.71508026e-03\n",
            " 2.97952586e-03 3.54940540e-04 3.68202280e-03 2.65961551e-03\n",
            " 3.85991052e-03 4.07283703e-03 5.79974994e-03 4.90341998e-03\n",
            " 6.81758238e-04 6.45093545e-03 1.23272726e-03 5.05422074e-05\n",
            " 4.50769761e-04 1.38814893e-03]\n"
          ],
          "name": "stdout"
        },
        {
          "output_type": "display_data",
          "data": {
            "image/png": "[encoded data removed]",
            "text/plain": [
              "<Figure size 432x288 with 1 Axes>"
            ]
          },
          "metadata": {
            "tags": []
          }
        }
      ]
    },
    {
      "cell_type": "markdown",
      "metadata": {
        "id": "sHzfzMZT5Kvb",
        "colab_type": "text"
      },
      "source": [
        "Correlation matrix"
      ]
    },
    {
      "cell_type": "code",
      "metadata": {
        "id": "Wo5BWueG5MXw",
        "colab_type": "code",
        "colab": {}
      },
      "source": [
        "doCorrelation = False\n",
        "if doCorrelation:\n",
        "  import seaborn as sns\n",
        "  #get correlations of each features in dataset\n",
        "  corrmat = df.corr()\n",
        "  top_corr_features = corrmat.index\n",
        "  plt.figure(figsize=(160,160))\n",
        "  #plot heat map\n",
        "  g=sns.heatmap(df[top_corr_features].corr(),annot=True,cmap=\"RdYlGn\")"
      ],
      "execution_count": 0,
      "outputs": []
    },
    {
      "cell_type": "markdown",
      "metadata": {
        "id": "hHT2xKExAHhY",
        "colab_type": "text"
      },
      "source": [
        "\n",
        "Confusion Matrix"
      ]
    },
    {
      "cell_type": "code",
      "metadata": {
        "id": "5qck1AgKznpr",
        "colab_type": "code",
        "outputId": "f50870be-00c5-4f09-bf7f-ee161ba2809f",
        "colab": {
          "base_uri": "https://localhost:8080/",
          "height": 1000
        }
      },
      "source": [
        "def plot_cm(classifierName):\n",
        "  from sklearn.metrics import accuracy_score, classification_report,confusion_matrix\n",
        "  from sklearn.utils.multiclass import unique_labels\n",
        "\n",
        "  cm = confusion_matrix(y_test, results[classifierName]['predictions'])\n",
        "  classes = unique_labels(y_test, results[classifierName]['predictions'])\n",
        "\n",
        "  fig, ax = plt.subplots()\n",
        "  im = ax.imshow(cm, interpolation='nearest', cmap=plt.cm.Blues)\n",
        "  ax.figure.colorbar(im, ax=ax)\n",
        "\n",
        "  ax.set(xticks=np.arange(cm.shape[1]),\n",
        "        yticks=np.arange(cm.shape[0]),\n",
        "        xticklabels=classes, yticklabels=classes,\n",
        "        title='CM ' + classifierName,\n",
        "        ylabel='True label',\n",
        "        xlabel='Predicted label')\n",
        "\n",
        "  fmt = 'd'\n",
        "  thresh = cm.max() / 10\n",
        "  for i in range(cm.shape[0]):\n",
        "      for j in range(cm.shape[1]):\n",
        "          ax.text(j, i, format(cm[i, j], fmt),\n",
        "                  horizontalalignment=\"right\",\n",
        "                  color=\"gray\" if cm[i, j] > thresh else \"gray\")\n",
        "  fig.tight_layout()\n",
        "  ax\n",
        "\n",
        "allClassifiers = ['randomForest', 'extraTrees','supportVector', 'xgboost', 'multiLayerPerceptron']\n",
        "\n",
        "for classifier in allClassifiers:\n",
        "  plot_cm(classifier)"
      ],
      "execution_count": 0,
      "outputs": [
        {
          "output_type": "display_data",
          "data": {
            "image/png": "[encoded data removed]",
            "text/plain": [
              "<Figure size 432x288 with 2 Axes>"
            ]
          },
          "metadata": {
            "tags": []
          }
        },
        {
          "output_type": "display_data",
          "data": {
            "image/png": "[encoded data removed]",
            "text/plain": [
              "<Figure size 432x288 with 2 Axes>"
            ]
          },
          "metadata": {
            "tags": []
          }
        },
        {
          "output_type": "display_data",
          "data": {
            "image/png": "[encoded data removed]",
            "text/plain": [
              "<Figure size 432x288 with 2 Axes>"
            ]
          },
          "metadata": {
            "tags": []
          }
        },
        {
          "output_type": "display_data",
          "data": {
            "image/png": "[encoded data removed]",
            "text/plain": [
              "<Figure size 432x288 with 2 Axes>"
            ]
          },
          "metadata": {
            "tags": []
          }
        },
        {
          "output_type": "display_data",
          "data": {
            "image/png": "[encoded data removed]",
            "text/plain": [
              "<Figure size 432x288 with 2 Axes>"
            ]
          },
          "metadata": {
            "tags": []
          }
        }
      ]
    },
    {
      "cell_type": "markdown",
      "metadata": {
        "id": "ZOWzsT1HS5ak",
        "colab_type": "text"
      },
      "source": [
        "# Graphs\n",
        "\n"
      ]
    },
    {
      "cell_type": "markdown",
      "metadata": {
        "id": "_aTFNTg2S8ps",
        "colab_type": "text"
      },
      "source": [
        "Accuracy between different classifiers"
      ]
    },
    {
      "cell_type": "code",
      "metadata": {
        "id": "MahCJpjCS70W",
        "colab_type": "code",
        "outputId": "56e614d3-7e67-4fc3-e91a-c60064b230eb",
        "colab": {
          "base_uri": "https://localhost:8080/",
          "height": 269
        }
      },
      "source": [
        "from matplotlib.ticker import FuncFormatter\n",
        "\n",
        "def plot_accuracy_between_classifiers():\n",
        "  allClassifierNames = ['RF', 'XT','SVM', 'XGB', 'MLP']\n",
        "  fig, ax = plt.subplots()\n",
        "  global results\n",
        "  x = np.arange(5)\n",
        "  accuracies = []\n",
        "\n",
        "  for classifier in allClassifiers:\n",
        "    accuracies.append(results[classifier]['accuracy'])\n",
        "\n",
        "  plt.bar(x, accuracies)\n",
        "  plt.xticks(x, (allClassifierNames[0],allClassifierNames[1],allClassifierNames[2],allClassifierNames[3], allClassifierNames[4]))\n",
        "  ax.set_ylim(0.50, 0.62)\n",
        "  plt.show()\n",
        "\n",
        "plot_accuracy_between_classifiers()\n"
      ],
      "execution_count": 0,
      "outputs": [
        {
          "output_type": "display_data",
          "data": {
            "image/png": "[encoded data removed]",
            "text/plain": [
              "<Figure size 432x288 with 1 Axes>"
            ]
          },
          "metadata": {
            "tags": []
          }
        }
      ]
    },
    {
      "cell_type": "markdown",
      "metadata": {
        "id": "9aUDsu_btDx7",
        "colab_type": "text"
      },
      "source": [
        "# Get updated data from fighter"
      ]
    },
    {
      "cell_type": "code",
      "metadata": {
        "id": "z93XM4lRvVC0",
        "colab_type": "code",
        "colab": {}
      },
      "source": [
        "def getFight(name):\n",
        "  fighter_R_rows = ['date','R_current_lose_streak',\n",
        " 'R_current_win_streak' ,'R_draw' ,'R_avg_BODY_att' ,'R_avg_BODY_landed',\n",
        " 'R_avg_CLINCH_att' ,'R_avg_CLINCH_landed' ,'R_avg_DISTANCE_att',\n",
        " 'R_avg_DISTANCE_landed' ,'R_avg_GROUND_att' ,'R_avg_GROUND_landed',\n",
        " 'R_avg_HEAD_att' ,'R_avg_HEAD_landed' ,'R_avg_KD' ,'R_avg_LEG_att',\n",
        " 'R_avg_LEG_landed' ,'R_avg_PASS' ,'R_avg_REV' ,'R_avg_SIG_STR_att',\n",
        " 'R_avg_SIG_STR_landed' ,'R_avg_SIG_STR_pct' ,'R_avg_SUB_ATT' ,'R_avg_TD_att',\n",
        " 'R_avg_TD_landed' ,'R_avg_TD_pct' ,'R_avg_TOTAL_STR_att',\n",
        " 'R_avg_TOTAL_STR_landed' ,'R_longest_win_streak' ,'R_losses',\n",
        " 'R_avg_opp_BODY_att' ,'R_avg_opp_BODY_landed' ,'R_avg_opp_CLINCH_att',\n",
        " 'R_avg_opp_CLINCH_landed' ,'R_avg_opp_DISTANCE_att',\n",
        " 'R_avg_opp_DISTANCE_landed' ,'R_avg_opp_GROUND_att',\n",
        " 'R_avg_opp_GROUND_landed' ,'R_avg_opp_HEAD_att' ,'R_avg_opp_HEAD_landed',\n",
        " 'R_avg_opp_KD' ,'R_avg_opp_LEG_att' ,'R_avg_opp_LEG_landed',\n",
        " 'R_avg_opp_PASS' ,'R_avg_opp_REV' ,'R_avg_opp_SIG_STR_att',\n",
        " 'R_avg_opp_SIG_STR_landed' ,'R_avg_opp_SIG_STR_pct' ,'R_avg_opp_SUB_ATT',\n",
        " 'R_avg_opp_TD_att' ,'R_avg_opp_TD_landed' ,'R_avg_opp_TD_pct',\n",
        " 'R_avg_opp_TOTAL_STR_att' ,'R_avg_opp_TOTAL_STR_landed',\n",
        " 'R_total_rounds_fought' ,'R_total_time_fought(seconds)',\n",
        " 'R_total_title_bouts' ,'R_win_by_Decision_Majority',\n",
        " 'R_win_by_Decision_Split' ,'R_win_by_Decision_Unanimous' ,'R_win_by_KO/TKO',\n",
        " 'R_win_by_Submission' ,'R_win_by_TKO_Doctor_Stoppage' ,'R_wins',\n",
        " 'R_Height_cms' ,'R_Reach_cms' ,'R_Weight_lbs', 'R_age', 'R_Stance','weight_class']\n",
        "\n",
        "\n",
        "  fighter_B_rows = ['date','B_current_lose_streak',\n",
        "  'B_current_win_streak' ,'B_draw' ,'B_avg_BODY_att' ,'B_avg_BODY_landed',\n",
        "  'B_avg_CLINCH_att' ,'B_avg_CLINCH_landed' ,'B_avg_DISTANCE_att',\n",
        "  'B_avg_DISTANCE_landed' ,'B_avg_GROUND_att' ,'B_avg_GROUND_landed',\n",
        "  'B_avg_HEAD_att' ,'B_avg_HEAD_landed' ,'B_avg_KD' ,'B_avg_LEG_att',\n",
        "  'B_avg_LEG_landed' ,'B_avg_PASS' ,'B_avg_REV' ,'B_avg_SIG_STR_att',\n",
        "  'B_avg_SIG_STR_landed' ,'B_avg_SIG_STR_pct' ,'B_avg_SUB_ATT' ,'B_avg_TD_att',\n",
        "  'B_avg_TD_landed' ,'B_avg_TD_pct' ,'B_avg_TOTAL_STR_att',\n",
        "  'B_avg_TOTAL_STR_landed' ,'B_longest_win_streak' ,'B_losses',\n",
        "  'B_avg_opp_BODY_att' ,'B_avg_opp_BODY_landed' ,'B_avg_opp_CLINCH_att',\n",
        "  'B_avg_opp_CLINCH_landed' ,'B_avg_opp_DISTANCE_att',\n",
        "  'B_avg_opp_DISTANCE_landed' ,'B_avg_opp_GROUND_att',\n",
        "  'B_avg_opp_GROUND_landed' ,'B_avg_opp_HEAD_att' ,'B_avg_opp_HEAD_landed',\n",
        "  'B_avg_opp_KD' ,'B_avg_opp_LEG_att' ,'B_avg_opp_LEG_landed',\n",
        "  'B_avg_opp_PASS' ,'B_avg_opp_REV' ,'B_avg_opp_SIG_STR_att',\n",
        "  'B_avg_opp_SIG_STR_landed' ,'B_avg_opp_SIG_STR_pct' ,'B_avg_opp_SUB_ATT',\n",
        "  'B_avg_opp_TD_att' ,'B_avg_opp_TD_landed' ,'B_avg_opp_TD_pct',\n",
        "  'B_avg_opp_TOTAL_STR_att' ,'B_avg_opp_TOTAL_STR_landed',\n",
        "  'B_total_rounds_fought' ,'B_total_time_fought(seconds)',\n",
        "  'B_total_title_bouts' ,'B_win_by_Decision_Majority',\n",
        "  'B_win_by_Decision_Split' ,'B_win_by_Decision_Unanimous' ,'B_win_by_KO/TKO',\n",
        "  'B_win_by_Submission' ,'B_win_by_TKO_Doctor_Stoppage' ,'B_wins',\n",
        "  'B_Height_cms' ,'B_Reach_cms' ,'B_Weight_lbs','B_age', 'B_Stance', 'weight_class']\n",
        "  fD = pd.read_csv('https://raw.githubusercontent.com/nystuen/UFC_Fight_Prediction/master/data2.csv')\n",
        "  hasRedFight = False\n",
        "  hasBlueFight = False\n",
        "\n",
        "  try:\n",
        "    latest_red_fight_fighter_B = fD.loc[fD['R_fighter'] == name][fighter_R_rows].iloc[0]\n",
        "    hasRedFight = True\n",
        "  except:\n",
        "    print('could not find fight in fred corner for fighter:', name)\n",
        "\n",
        "  try:\n",
        "    latest_blue_fight_fighter_B = fD.loc[fD['B_fighter'] == name][fighter_B_rows].iloc[0]\n",
        "    hasBlueFight = True\n",
        "  except:\n",
        "    print('could not find fight in blue corner for fighter:', name)  \n",
        "\n",
        "\n",
        "\n",
        "  if hasRedFight and hasBlueFight :\n",
        "     if latest_blue_fight_fighter_B.date > latest_red_fight_fighter_B.date:\n",
        "       return latest_blue_fight_fighter_B\n",
        "     else:\n",
        "       return latest_red_fight_fighter_B\n",
        "  elif hasRedFight:\n",
        "    return latest_red_fight_fighter_B\n",
        "  elif hasBlueFight:\n",
        "    return latest_blue_fight_fighter_B\n",
        "  else:\n",
        "    raise Exception(\"Sorry, could not find a previous fight for this fighter\")\n"
      ],
      "execution_count": 0,
      "outputs": []
    },
    {
      "cell_type": "code",
      "metadata": {
        "colab_type": "code",
        "id": "7sk4A7Bq2yH8",
        "colab": {}
      },
      "source": [
        "def defineColumns():\n",
        "  firstTwoColums = ['title_bout' ,'no_of_rounds']\n",
        "\n",
        "  blueColumns = ['B_current_lose_streak',\n",
        "  'B_current_win_streak' ,'B_draw' ,'B_avg_BODY_att' ,'B_avg_BODY_landed',\n",
        "  'B_avg_CLINCH_att' ,'B_avg_CLINCH_landed' ,'B_avg_DISTANCE_att',\n",
        "  'B_avg_DISTANCE_landed' ,'B_avg_GROUND_att' ,'B_avg_GROUND_landed',\n",
        "  'B_avg_HEAD_att' ,'B_avg_HEAD_landed' ,'B_avg_KD' ,'B_avg_LEG_att',\n",
        "  'B_avg_LEG_landed' ,'B_avg_PASS' ,'B_avg_REV' ,'B_avg_SIG_STR_att',\n",
        "  'B_avg_SIG_STR_landed' ,'B_avg_SIG_STR_pct' ,'B_avg_SUB_ATT' ,'B_avg_TD_att',\n",
        "  'B_avg_TD_landed' ,'B_avg_TD_pct' ,'B_avg_TOTAL_STR_att',\n",
        "  'B_avg_TOTAL_STR_landed' ,'B_longest_win_streak' ,'B_losses',\n",
        "  'B_avg_opp_BODY_att' ,'B_avg_opp_BODY_landed' ,'B_avg_opp_CLINCH_att',\n",
        "  'B_avg_opp_CLINCH_landed' ,'B_avg_opp_DISTANCE_att',\n",
        "  'B_avg_opp_DISTANCE_landed' ,'B_avg_opp_GROUND_att',\n",
        "  'B_avg_opp_GROUND_landed' ,'B_avg_opp_HEAD_att' ,'B_avg_opp_HEAD_landed',\n",
        "  'B_avg_opp_KD' ,'B_avg_opp_LEG_att' ,'B_avg_opp_LEG_landed',\n",
        "  'B_avg_opp_PASS' ,'B_avg_opp_REV' ,'B_avg_opp_SIG_STR_att',\n",
        "  'B_avg_opp_SIG_STR_landed' ,'B_avg_opp_SIG_STR_pct' ,'B_avg_opp_SUB_ATT',\n",
        "  'B_avg_opp_TD_att' ,'B_avg_opp_TD_landed' ,'B_avg_opp_TD_pct',\n",
        "  'B_avg_opp_TOTAL_STR_att' ,'B_avg_opp_TOTAL_STR_landed',\n",
        "  'B_total_rounds_fought' ,'B_total_time_fought(seconds)',\n",
        "  'B_total_title_bouts' ,'B_win_by_Decision_Majority',\n",
        "  'B_win_by_Decision_Split' ,'B_win_by_Decision_Unanimous' ,'B_win_by_KO/TKO',\n",
        "  'B_win_by_Submission' ,'B_win_by_TKO_Doctor_Stoppage' ,'B_wins',\n",
        "  'B_Height_cms' ,'B_Reach_cms' ,'B_Weight_lbs','B_age', 'B_Stance_Open Stance' ,'B_Stance_Orthodox' ,\n",
        " 'B_Stance_Southpaw']\n",
        "\n",
        "  redColumns = ['R_current_lose_streak',\n",
        " 'R_current_win_streak' ,'R_draw' ,'R_avg_BODY_att' ,'R_avg_BODY_landed',\n",
        " 'R_avg_CLINCH_att' ,'R_avg_CLINCH_landed' ,'R_avg_DISTANCE_att',\n",
        " 'R_avg_DISTANCE_landed' ,'R_avg_GROUND_att' ,'R_avg_GROUND_landed',\n",
        " 'R_avg_HEAD_att' ,'R_avg_HEAD_landed' ,'R_avg_KD' ,'R_avg_LEG_att',\n",
        " 'R_avg_LEG_landed' ,'R_avg_PASS' ,'R_avg_REV' ,'R_avg_SIG_STR_att',\n",
        " 'R_avg_SIG_STR_landed' ,'R_avg_SIG_STR_pct' ,'R_avg_SUB_ATT' ,'R_avg_TD_att',\n",
        " 'R_avg_TD_landed' ,'R_avg_TD_pct' ,'R_avg_TOTAL_STR_att',\n",
        " 'R_avg_TOTAL_STR_landed' ,'R_longest_win_streak' ,'R_losses',\n",
        " 'R_avg_opp_BODY_att' ,'R_avg_opp_BODY_landed' ,'R_avg_opp_CLINCH_att',\n",
        " 'R_avg_opp_CLINCH_landed' ,'R_avg_opp_DISTANCE_att',\n",
        " 'R_avg_opp_DISTANCE_landed' ,'R_avg_opp_GROUND_att',\n",
        " 'R_avg_opp_GROUND_landed' ,'R_avg_opp_HEAD_att' ,'R_avg_opp_HEAD_landed',\n",
        " 'R_avg_opp_KD' ,'R_avg_opp_LEG_att' ,'R_avg_opp_LEG_landed',\n",
        " 'R_avg_opp_PASS' ,'R_avg_opp_REV' ,'R_avg_opp_SIG_STR_att',\n",
        " 'R_avg_opp_SIG_STR_landed' ,'R_avg_opp_SIG_STR_pct' ,'R_avg_opp_SUB_ATT',\n",
        " 'R_avg_opp_TD_att' ,'R_avg_opp_TD_landed' ,'R_avg_opp_TD_pct',\n",
        " 'R_avg_opp_TOTAL_STR_att' ,'R_avg_opp_TOTAL_STR_landed',\n",
        " 'R_total_rounds_fought' ,'R_total_time_fought(seconds)',\n",
        " 'R_total_title_bouts' ,'R_win_by_Decision_Majority',\n",
        " 'R_win_by_Decision_Split' ,'R_win_by_Decision_Unanimous' ,'R_win_by_KO/TKO',\n",
        " 'R_win_by_Submission' ,'R_win_by_TKO_Doctor_Stoppage' ,'R_wins',\n",
        " 'R_Height_cms' ,'R_Reach_cms' ,'R_Weight_lbs','R_Stance_Open Stance',\n",
        " 'R_Stance_Orthodox' ,'R_Stance_Southpaw']\n",
        "\n",
        "\n",
        "  all_rows = ['title_bout' ,'no_of_rounds' ,'B_current_lose_streak',\n",
        " 'B_current_win_streak' ,'B_draw' ,'B_avg_BODY_att' ,'B_avg_BODY_landed',\n",
        " 'B_avg_CLINCH_att' ,'B_avg_CLINCH_landed' ,'B_avg_DISTANCE_att',\n",
        " 'B_avg_DISTANCE_landed' ,'B_avg_GROUND_att' ,'B_avg_GROUND_landed',\n",
        " 'B_avg_HEAD_att' ,'B_avg_HEAD_landed' ,'B_avg_KD' ,'B_avg_LEG_att',\n",
        " 'B_avg_LEG_landed' ,'B_avg_PASS' ,'B_avg_REV' ,'B_avg_SIG_STR_att',\n",
        " 'B_avg_SIG_STR_landed' ,'B_avg_SIG_STR_pct' ,'B_avg_SUB_ATT' ,'B_avg_TD_att',\n",
        " 'B_avg_TD_landed' ,'B_avg_TD_pct' ,'B_avg_TOTAL_STR_att',\n",
        " 'B_avg_TOTAL_STR_landed' ,'B_longest_win_streak' ,'B_losses',\n",
        " 'B_avg_opp_BODY_att' ,'B_avg_opp_BODY_landed' ,'B_avg_opp_CLINCH_att',\n",
        " 'B_avg_opp_CLINCH_landed' ,'B_avg_opp_DISTANCE_att',\n",
        " 'B_avg_opp_DISTANCE_landed' ,'B_avg_opp_GROUND_att',\n",
        " 'B_avg_opp_GROUND_landed' ,'B_avg_opp_HEAD_att' ,'B_avg_opp_HEAD_landed',\n",
        " 'B_avg_opp_KD' ,'B_avg_opp_LEG_att' ,'B_avg_opp_LEG_landed',\n",
        " 'B_avg_opp_PASS' ,'B_avg_opp_REV' ,'B_avg_opp_SIG_STR_att',\n",
        " 'B_avg_opp_SIG_STR_landed' ,'B_avg_opp_SIG_STR_pct' ,'B_avg_opp_SUB_ATT',\n",
        " 'B_avg_opp_TD_att' ,'B_avg_opp_TD_landed' ,'B_avg_opp_TD_pct',\n",
        " 'B_avg_opp_TOTAL_STR_att' ,'B_avg_opp_TOTAL_STR_landed',\n",
        " 'B_total_rounds_fought' ,'B_total_time_fought(seconds)',\n",
        " 'B_total_title_bouts' ,'B_win_by_Decision_Majority',\n",
        " 'B_win_by_Decision_Split' ,'B_win_by_Decision_Unanimous' ,'B_win_by_KO/TKO',\n",
        " 'B_win_by_Submission' ,'B_win_by_TKO_Doctor_Stoppage' ,'B_wins',\n",
        " 'B_Height_cms' ,'B_Reach_cms' ,'B_Weight_lbs' ,'R_current_lose_streak',\n",
        " 'R_current_win_streak' ,'R_draw' ,'R_avg_BODY_att' ,'R_avg_BODY_landed',\n",
        " 'R_avg_CLINCH_att' ,'R_avg_CLINCH_landed' ,'R_avg_DISTANCE_att',\n",
        " 'R_avg_DISTANCE_landed' ,'R_avg_GROUND_att' ,'R_avg_GROUND_landed',\n",
        " 'R_avg_HEAD_att' ,'R_avg_HEAD_landed' ,'R_avg_KD' ,'R_avg_LEG_att',\n",
        " 'R_avg_LEG_landed' ,'R_avg_PASS' ,'R_avg_REV' ,'R_avg_SIG_STR_att',\n",
        " 'R_avg_SIG_STR_landed' ,'R_avg_SIG_STR_pct' ,'R_avg_SUB_ATT' ,'R_avg_TD_att',\n",
        " 'R_avg_TD_landed' ,'R_avg_TD_pct' ,'R_avg_TOTAL_STR_att',\n",
        " 'R_avg_TOTAL_STR_landed' ,'R_longest_win_streak' ,'R_losses',\n",
        " 'R_avg_opp_BODY_att' ,'R_avg_opp_BODY_landed' ,'R_avg_opp_CLINCH_att',\n",
        " 'R_avg_opp_CLINCH_landed' ,'R_avg_opp_DISTANCE_att',\n",
        " 'R_avg_opp_DISTANCE_landed' ,'R_avg_opp_GROUND_att',\n",
        " 'R_avg_opp_GROUND_landed' ,'R_avg_opp_HEAD_att' ,'R_avg_opp_HEAD_landed',\n",
        " 'R_avg_opp_KD' ,'R_avg_opp_LEG_att' ,'R_avg_opp_LEG_landed',\n",
        " 'R_avg_opp_PASS' ,'R_avg_opp_REV' ,'R_avg_opp_SIG_STR_att',\n",
        " 'R_avg_opp_SIG_STR_landed' ,'R_avg_opp_SIG_STR_pct' ,'R_avg_opp_SUB_ATT',\n",
        " 'R_avg_opp_TD_att' ,'R_avg_opp_TD_landed' ,'R_avg_opp_TD_pct',\n",
        " 'R_avg_opp_TOTAL_STR_att' ,'R_avg_opp_TOTAL_STR_landed',\n",
        " 'R_total_rounds_fought' ,'R_total_time_fought(seconds)',\n",
        " 'R_total_title_bouts' ,'R_win_by_Decision_Majority',\n",
        " 'R_win_by_Decision_Split' ,'R_win_by_Decision_Unanimous' ,'R_win_by_KO/TKO',\n",
        " 'R_win_by_Submission' ,'R_win_by_TKO_Doctor_Stoppage' ,'R_wins',\n",
        " 'R_Height_cms' ,'R_Reach_cms' ,'R_Weight_lbs' ,'B_age' ,'R_age',\n",
        " 'weight_class_Bantamweight' ,'weight_class_Catch Weight',\n",
        " 'weight_class_Featherweight' ,'weight_class_Flyweight',\n",
        " 'weight_class_Heavyweight' ,'weight_class_Light Heavyweight',\n",
        " 'weight_class_Lightweight' ,'weight_class_Middleweight',\n",
        " 'weight_class_Open Weight' ,'weight_class_Welterweight',\n",
        " 'weight_class_Womens_Bantamweight' ,'weight_class_Womens_Featherweight',\n",
        " 'weight_class_Womens_Flyweight' ,'weight_class_Womens_Strawweight',\n",
        "  'B_Stance_Open Stance', 'B_Stance_Orthodox', 'B_Stance_Southpaw',\n",
        " 'B_Stance_Switch', 'R_Stance_Open Stance', 'R_Stance_Orthodox',\n",
        " 'R_Stance_Southpaw', 'R_Stance_Switch']\n",
        "\n",
        "  weightClassColumns = ['weight_class_Bantamweight', 'weight_class_Catch Weight',\n",
        " 'weight_class_Featherweight' ,'weight_class_Flyweight',\n",
        " 'weight_class_Heavyweight' ,'weight_class_Light Heavyweight',\n",
        " 'weight_class_Lightweight' ,'weight_class_Middleweight',\n",
        " 'weight_class_Open Weight' ,'weight_class_Welterweight',\n",
        " 'weight_class_Womens_Bantamweight' ,'weight_class_Womens_Featherweight',\n",
        " 'weight_class_Womens_Flyweight' ,'weight_class_Womens_Strawweight']\n",
        "\n",
        "  return firstTwoColums, blueColumns, redColumns, all_rows, weightClassColumns\n",
        "\n",
        "firstTwoColumns, blueColumns, redColumns, all_rows, weightClassColumns = defineColumns()\n",
        "\n",
        "def csvDf(dat,**kwargs): \n",
        "  from numpy import array\n",
        "  data = array(dat)\n",
        "  if data is None or len(data)==0 or len(data[0])==0:\n",
        "    return None\n",
        "  else:\n",
        "    return pd.DataFrame(data[1:,1:],index=data[1:,0],columns=data[0,1:],**kwargs)\n",
        "\n",
        "\n",
        "def getFightersOriginalColor(fighter_R):\n",
        "      try:\n",
        "        if(fighter_R.R_age):\n",
        "          return 'R'\n",
        "      except:\n",
        "        return 'B'   \n",
        "\n",
        "def getStanceArray(stance, color):\n",
        "  stance = stance.lower()\n",
        "  stanceBlueArray = [0, 0, 0, 0];\n",
        "  stanceRedArray = [0, 0, 0, 0]\n",
        "  isRed = color == 'R'\n",
        " \n",
        "  if stance == 'open stance':\n",
        "    if isRed:\n",
        "      stanceRedArray[0] = 1\n",
        "    else:\n",
        "      stanceBlueArray[0] = 1\n",
        "\n",
        "  elif stance == 'orthodox':\n",
        "    if isRed:\n",
        "      stanceRedArray[1] = 1\n",
        "    else:\n",
        "      stanceBlueArray[1] = 1\n",
        "  elif stance == 'sideways':\n",
        "      stanceBlueArray[2] = 1\n",
        "  elif stance == 'southpaw':\n",
        "    if isRed:\n",
        "      stanceRedArray[2] = 1\n",
        "    else:\n",
        "      stanceBlueArray[2] = 1\n",
        "  elif stance == 'switch':\n",
        "    if isRed:\n",
        "      stanceRedArray[3] = 1\n",
        "    else:\n",
        "      stanceBlueArray[3] = 1\n",
        "  \n",
        "\n",
        "  if isRed:\n",
        "    return stanceRedArray\n",
        "  else:\n",
        "    return stanceBlueArray\n",
        "\n",
        "\n",
        "def getIndexOfStringInArray(array, string):\n",
        "  for i in range(len(array)):\n",
        "    if(array[i].lower() == string.lower()):\n",
        "      return i\n",
        "  return -1\n",
        "\n",
        "\n",
        "def getWeightClassArray(weightClass):\n",
        "\n",
        "  weightClasses = ['Bantamweight', 'Catch Weight',\n",
        "                 'Featherweight', 'Flyweight',\n",
        "                 'Heavyweight', 'Light Heavyweight',\n",
        "                 'Lightweight', 'Middleweight',\n",
        "                 'Open Weight', 'Welterweight',\n",
        "                 'Womens Bantamweight', 'Womens Featherweight',\n",
        "                 'Womens Flyweight', 'Womens Strawweight']\n",
        "\n",
        "  weightClassArray = np.zeros(len(weightClasses))\n",
        "  index = getIndexOfStringInArray(weightClasses, weightClass)\n",
        "  weightClassArray[index] = 1\n",
        "  return weightClassArray\n",
        "\n",
        "\n",
        "\n",
        "def getDataFrame(fighter_R_name, fighter_B_name):\n",
        "\n",
        "  global all_rows\n",
        "  fighter_1_data = getFight(fighter_R_name)\n",
        "  fighter_2_data = getFight(fighter_B_name)\n",
        "\n",
        "  final_rows = []\n",
        "  first_two_rows = []\n",
        "  ages = []\n",
        "  fighter_1_stance_array = []\n",
        "  fighter_2_stance_array = []\n",
        "  weight_class_array = []\n",
        "\n",
        "\n",
        "  # Which color is fighter 1 and fighter 2 originally in the dataset?\n",
        "  fighter_1_color_original = getFightersOriginalColor(fighter_1_data)\n",
        "  fighter_2_color_original = getFightersOriginalColor(fighter_2_data)\n",
        "\n",
        "\n",
        "  # Which color is fighter 1 and fighter two in this fight?\n",
        "  fighter_1_color = 'R'\n",
        "  fighter_2_color = 'B'\n",
        "\n",
        "\n",
        "  # Prepare first two columns in data\n",
        "  title_bout = 0\n",
        "  no_of_rounds = 3\n",
        "  first_two_rows.append(title_bout)\n",
        "  first_two_rows.append(no_of_rounds)\n",
        "  \n",
        "\n",
        "  # Retrieve ages of both fighters, b_age is first then r_age\n",
        "  if(fighter_2_color_original == 'R'):\n",
        "    ages.append(fighter_2_data.R_age)\n",
        "  else:\n",
        "    ages.append(fighter_2_data.B_age)\n",
        "\n",
        "  if(fighter_1_color_original == 'R'):\n",
        "    ages.append(fighter_1_data.R_age)\n",
        "  else:\n",
        "    ages.append(fighter_1_data.B_age)\n",
        "\n",
        "\n",
        "  # Retrieve stancearrays for both fighters, B is first\n",
        "  if(fighter_2_color_original == 'R'):\n",
        "    fighter_2_stance_array = getStanceArray(fighter_2_data.R_Stance, fighter_2_color)\n",
        "  else:  \n",
        "    fighter_2_stance_array = getStanceArray(fighter_2_data.B_Stance, fighter_2_color)\n",
        "\n",
        "  if(fighter_1_color_original == 'R'):\n",
        "    fighter_1_stance_array = getStanceArray(fighter_1_data.R_Stance,fighter_1_color)\n",
        "  else:  \n",
        "    fighter_1_stance_array = getStanceArray(fighter_1_data.B_Stance,fighter_1_color)\n",
        "\n",
        "\n",
        "  # Retrieve which weightclass we are in\n",
        "  weight_class_array = getWeightClassArray(fighter_1_data.weight_class)\n",
        "  fighter_R = getFight(fighter_R_name)\n",
        "\n",
        "  # Make one huge row of all arrays\n",
        "  # first we need to two three last columns from fighter 1 and 2 data\n",
        "\n",
        "  fighter_1_data = fighter_1_data.drop(\"weight_class\")\n",
        "  fighter_2_data = fighter_2_data.drop(\"weight_class\")\n",
        "  fighter_1_data = fighter_1_data.drop(\"date\")\n",
        "  fighter_2_data = fighter_2_data.drop(\"date\")\n",
        "  if fighter_1_color_original == 'R':\n",
        "    fighter_1_data = fighter_1_data.drop(\"R_Stance\")\n",
        "    fighter_1_data = fighter_1_data.drop(\"R_age\")\n",
        "  else:\n",
        "    fighter_1_data = fighter_1_data.drop(\"B_Stance\")\n",
        "    fighter_1_data = fighter_1_data.drop(\"B_age\")\n",
        "\n",
        "  if fighter_2_color_original == 'R':\n",
        "    fighter_2_data = fighter_2_data.drop(\"R_Stance\")\n",
        "    fighter_2_data = fighter_2_data.drop(\"R_age\")\n",
        "  else:\n",
        "    fighter_2_data = fighter_2_data.drop(\"B_Stance\")\n",
        "    fighter_2_data = fighter_2_data.drop(\"B_age\")\n",
        "\n",
        " \n",
        "  weight_class_array = list(map(int, weight_class_array))\n",
        "  \n",
        "  final_rows = first_two_rows + list(fighter_1_data) + list(fighter_2_data)+ ages + weight_class_array + fighter_2_stance_array + fighter_1_stance_array\n",
        "  return final_rows\n"
      ],
      "execution_count": 0,
      "outputs": []
    },
    {
      "cell_type": "markdown",
      "metadata": {
        "id": "2ujN5HRAzxrK",
        "colab_type": "text"
      },
      "source": [
        "# Defining functions for probability of win both normally and independently of corner color"
      ]
    },
    {
      "cell_type": "code",
      "metadata": {
        "id": "Hn59oosmyPoJ",
        "colab_type": "code",
        "colab": {}
      },
      "source": [
        "def getFightPredictionProbability(fighter_A, fighter_B):\n",
        "  \n",
        "  # Run prediction \n",
        "  df = getDataFrame(fighter_A, fighter_B)\n",
        "  data = [[' '] + all_rows, [' '] + df]\n",
        "  df = pd.DataFrame(csvDf(data))\n",
        "  [prob_A,prob_B] = model.predict_proba(df)[0]\n",
        "  \n",
        "  if prob_A > prob_B:\n",
        "    return (fighter_A, prob_A)\n",
        "  elif prob_A < prob_B:\n",
        "    return (fighter_B, prob_B)\n",
        "  else:\n",
        "    return ('Tie', 0.5)  \n",
        "\n",
        "def getFightPredictionProbablityIndependentlyOfCorner(fighter_A, fighter_B):\n",
        "\n",
        "  # Run prediction \n",
        "  df = getDataFrame(fighter_A, fighter_B)\n",
        "  data = [[' '] + all_rows, [' '] + df]\n",
        "  df = pd.DataFrame(csvDf(data))\n",
        "  [blue_prob_A,red_prob_B] = model.predict_proba(df)[0]\n",
        "\n",
        "  ## Run prediction again with switches corners\n",
        "  df = getDataFrame(fighter_B, fighter_A)\n",
        "  data = [[' '] + all_rows, [' '] + df]\n",
        "  df = pd.DataFrame(csvDf(data))\n",
        "  [blue_prob_B,red_prob_A] = model.predict_proba(df)[0]\n",
        "\n",
        "  #print('red_prob_A',red_prob_A)\n",
        "  #print('blue_prob_A',blue_prob_A)\n",
        "  #print('red_prob_B',red_prob_B )\n",
        "  #print('blue_prob_B',blue_prob_B)\n",
        "\n",
        "  prob_A = (red_prob_A + blue_prob_A)/2\n",
        "  prob_B = (red_prob_B + blue_prob_B)/2\n",
        "\n",
        "  if prob_A > prob_B:\n",
        "    return (fighter_A, prob_A)\n",
        "  elif prob_A < prob_B:\n",
        "    return (fighter_B, prob_B)\n",
        "  else:\n",
        "    return ('Tie', 0.5)  "
      ],
      "execution_count": 0,
      "outputs": []
    },
    {
      "cell_type": "markdown",
      "metadata": {
        "id": "az1zdFCoVvpT",
        "colab_type": "text"
      },
      "source": [
        "# UFC Fight Predictor\n",
        "\n",
        "Please enter the following:\n"
      ]
    },
    {
      "cell_type": "code",
      "metadata": {
        "id": "3rA46R9AVvbb",
        "colab_type": "code",
        "outputId": "5b55fc94-46c2-40dd-d90e-5ffc6d5b8d1c",
        "colab": {
          "base_uri": "https://localhost:8080/",
          "height": 52
        }
      },
      "source": [
        "print(' Name of fighter A')\n",
        "fighter_A = input()\n",
        "print(' Name of fighter B')\n",
        "fighter_B = input()\n",
        "\n",
        "(winner, prob) = getFightPredictionProbablityIndependentlyOfCorner(fighter_A,fighter_B)\n",
        "\n",
        "print(\"The winner will be \" + winner)"
      ],
      "execution_count": 0,
      "outputs": [
        {
          "output_type": "stream",
          "text": [
            " Name of fighter A\n"
          ],
          "name": "stdout"
        }
      ]
    },
    {
      "cell_type": "markdown",
      "metadata": {
        "id": "wAmflHL2cCmA",
        "colab_type": "text"
      },
      "source": [
        "# **`testing model`**"
      ]
    },
    {
      "cell_type": "code",
      "metadata": {
        "id": "BC2HiKzu_7sP",
        "colab_type": "code",
        "colab": {}
      },
      "source": [
        "def pred(fighter_A, fighter_B):\n",
        "  (winner2, prob2) = getFightPredictionProbability(fighter_A, fighter_B)\n",
        "  print(\"Prediction: The winner will be \" + winner2 + \" with a probability of\", prob2)\n",
        "'''\n",
        "pred('Jan Blachowicz','Jacare Souza')\n",
        "pred('Jacare Souza','Jan Blachowicz')\n",
        "pred('Mauricio Rua','Paul Craig')\n",
        "pred('Paul Craig','Mauricio Rua')\n",
        "pred('Jared Gordon','Charles Oliveira')\n",
        "pred('Charles Oliveira','Jared Gordon')\n",
        "#pred('Antonio Arroyo','Andre Muniz')\n",
        "#pred('Markus Perez','Wellington Turman')\n",
        "'''\n",
        "\n",
        "pred('Jorge Masvidal','Nate Diaz')\n",
        "pred('Kelvin Gastelum','Darren Till')\n",
        "pred('Stephen Thompson','Vicente Luque')\n",
        "pred('Derrick Lewis','Blagoy Ivanov')\n",
        "pred('Kevin Lee','Gregor Gillespie')\n",
        "\n",
        "'''\n",
        "pred('Robert Whittaker','Israel Adesanya')\n",
        "pred('Al Iaquinta','Dan Hooker')\n",
        "pred('Tai Tuivasa','Serghei Spivac')\n",
        "pred('Luke Jumeau','Dhiego Lima')\n",
        "pred('Justin Tafa','Yorgan De Castro')\n",
        "'''\n",
        "\n",
        "pred('Conor McGregor','Jose Aldo')\n"
      ],
      "execution_count": 0,
      "outputs": []
    },
    {
      "cell_type": "markdown",
      "metadata": {
        "id": "43nIyBIh7fAC",
        "colab_type": "text"
      },
      "source": [
        "Med gammelt datasett:\n",
        "* \n",
        "The winner will be Emil Meek with a probability of 0.5278220486341284\n",
        "\n",
        "Med nytt datasett:\n",
        "* The winner will be Emil Meek with a probability of 0.5096668846639181\n"
      ]
    },
    {
      "cell_type": "code",
      "metadata": {
        "id": "Mwg86SXEdMQa",
        "colab_type": "code",
        "colab": {}
      },
      "source": [
        ""
      ],
      "execution_count": 0,
      "outputs": []
    },
    {
      "cell_type": "markdown",
      "metadata": {
        "id": "4be9xN6-9ULY",
        "colab_type": "text"
      },
      "source": [
        "# Live Demo"
      ]
    },
    {
      "cell_type": "code",
      "metadata": {
        "id": "6MhwVtf-9a3f",
        "colab_type": "code",
        "outputId": "8c7a328b-7dff-4fc4-a038-2529479eb121",
        "colab": {
          "base_uri": "https://localhost:8080/",
          "height": 51
        }
      },
      "source": [
        "def pred(fighter_A, fighter_B):\n",
        "  print('Predicting....')\n",
        "  (winner2, prob2) = getFightPredictionProbablityIndependentlyOfCorner(fighter_A, fighter_B)\n",
        "  print(\"The predicted winner will be \" + winner2)\n",
        "\n",
        "pred('Conor McGregor','Jose Aldo')"
      ],
      "execution_count": 0,
      "outputs": [
        {
          "output_type": "stream",
          "text": [
            "Predicting....\n",
            "The predicted winner will be Jose Aldo\n"
          ],
          "name": "stdout"
        }
      ]
    },
    {
      "cell_type": "markdown",
      "metadata": {
        "id": "5XsQeQp3U5a7",
        "colab_type": "text"
      },
      "source": [
        ""
      ]
    },
    {
      "cell_type": "code",
      "metadata": {
        "id": "D1LFICcL9i19",
        "colab_type": "code",
        "colab": {}
      },
      "source": [
        ""
      ],
      "execution_count": 0,
      "outputs": []
    }
  ]
}