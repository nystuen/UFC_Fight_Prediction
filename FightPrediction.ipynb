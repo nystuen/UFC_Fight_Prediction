{
  "nbformat": 4,
  "nbformat_minor": 0,
  "metadata": {
    "colab": {
      "name": "FightPrediction.ipynb",
      "provenance": [],
      "collapsed_sections": [],
      "include_colab_link": true
    },
    "kernelspec": {
      "name": "python3",
      "display_name": "Python 3"
    },
    "accelerator": "GPU"
  },
  "cells": [
    {
      "cell_type": "markdown",
      "metadata": {
        "id": "view-in-github",
        "colab_type": "text"
      },
      "source": [
        "<a href=\"https://colab.research.google.com/github/nystuen/UFC_Fight_Prediction/blob/master/FightPrediction.ipynb\" target=\"_parent\"><img src=\"https://colab.research.google.com/assets/colab-badge.svg\" alt=\"Open In Colab\"/></a>"
      ]
    },
    {
      "cell_type": "markdown",
      "metadata": {
        "id": "4JiaZV4rElSP",
        "colab_type": "text"
      },
      "source": [
        "# **Imports**"
      ]
    },
    {
      "cell_type": "code",
      "metadata": {
        "id": "RmPygNbaq-er",
        "colab_type": "code",
        "colab": {
          "base_uri": "https://localhost:8080/",
          "height": 80
        },
        "outputId": "c64b71db-d7b9-487a-af0f-f92c1ec98840"
      },
      "source": [
        "import pandas as pd\n",
        "import numpy as np\n",
        "import tensorflow as tf\n",
        "import matplotlib.pyplot as plt\n",
        "import keras\n",
        "\n",
        "# Models\n",
        "from keras.models import Sequential\n",
        "from sklearn.linear_model import LogisticRegression\n",
        "from sklearn.svm import SVC, LinearSVC\n",
        "from sklearn.ensemble import ExtraTreesClassifier\n",
        "from sklearn.ensemble import RandomForestClassifier\n",
        "from sklearn.linear_model import Perceptron\n",
        "from sklearn.neural_network import MLPClassifier\n",
        "from xgboost import XGBClassifier\n",
        "\n",
        "from sklearn.feature_selection import SelectKBest\n",
        "from sklearn.feature_selection import chi2\n",
        "from sklearn.feature_selection import f_classif\n",
        "from keras.layers import Dense,Activation\n",
        "from sklearn.model_selection import train_test_split\n",
        "from sklearn.preprocessing import StandardScaler\n",
        "from keras.layers import Dense, Activation, Flatten\n",
        "from sklearn.metrics import f1_score\n",
        "from sklearn.metrics import accuracy_score\n",
        "from keras.callbacks import ModelCheckpoint\n",
        "from sklearn.metrics import accuracy_score\n"
      ],
      "execution_count": 2,
      "outputs": [
        {
          "output_type": "display_data",
          "data": {
            "text/html": [
              "<p style=\"color: red;\">\n",
              "The default version of TensorFlow in Colab will soon switch to TensorFlow 2.x.<br>\n",
              "We recommend you <a href=\"https://www.tensorflow.org/guide/migrate\" target=\"_blank\">upgrade</a> now \n",
              "or ensure your notebook will continue to use TensorFlow 1.x via the <code>%tensorflow_version 1.x</code> magic:\n",
              "<a href=\"https://colab.research.google.com/notebooks/tensorflow_version.ipynb\" target=\"_blank\">more info</a>.</p>\n"
            ],
            "text/plain": [
              "<IPython.core.display.HTML object>"
            ]
          },
          "metadata": {
            "tags": []
          }
        },
        {
          "output_type": "stream",
          "text": [
            "Using TensorFlow backend.\n"
          ],
          "name": "stderr"
        }
      ]
    },
    {
      "cell_type": "markdown",
      "metadata": {
        "id": "Lisz8VKJidC-",
        "colab_type": "text"
      },
      "source": [
        "# **Generate dataset**\n",
        "- generateDoubleDatasetWithSwappedColors balances dataset\n",
        "- generateOldDatasetWithoutSwappedColors uses original unbalanced dataset\n"
      ]
    },
    {
      "cell_type": "code",
      "metadata": {
        "id": "NAfibKfdi2Jk",
        "colab_type": "code",
        "colab": {}
      },
      "source": [
        "results = {}\n",
        "df = pd.read_csv(\n",
        "    \"https://raw.githubusercontent.com/nystuen/UFC_Fight_Prediction/master/preprocessed_data.csv\")\n",
        "\n",
        "scaler = StandardScaler()\n",
        "df = df.drop(columns = ['B_Stance_Sideways'])\n",
        "df_num = df.select_dtypes(include=[np.float, np.int])\n",
        "df['Winner'] = (df['Winner'] != 'Red').astype(int)\n",
        "df['title_bout'] = (df['title_bout']).astype(int)\n",
        "\n",
        "def swap_data_frame(swap_data):\n",
        "    cols = list(swap_data.columns)\n",
        "    b_cols = [i for i in cols if i[0]=='B']\n",
        "    for b_c in b_cols:\n",
        "        r_c = 'R'+b_c[1:]\n",
        "        b_index = cols.index(b_c)\n",
        "        r_index = cols.index(r_c)\n",
        "        cols[b_index], cols[r_index] = cols[r_index], cols[b_index]\n",
        "    swap_data.columns = cols\n",
        "    return swap_data\n",
        "\n",
        "def generateDoubleDatasetWithSwappedColors():\n",
        "  global df\n",
        "  swap_data = df.copy()\n",
        "  swap_data = swap_data_frame(swap_data)\n",
        "  swap_data['Winner'] = swap_data['Winner'].replace([0,1],[1,0])\n",
        "  frames = [df,swap_data]\n",
        "  concat_data = pd.concat(frames)\n",
        "  concat_correct = concat_data.copy()\n",
        "  df = concat_correct\n",
        "  y = concat_correct['Winner']\n",
        "  print(y.value_counts())\n",
        "  X = concat_correct.drop(columns = ['Winner'])\n",
        "  x_train, x_test, y_train, y_test = train_test_split(X, y, test_size=0.15, random_state=12)\n",
        "  print(y_test.value_counts())\n",
        "\n",
        "  return y, X, x_train, x_test, y_train, y_test\n",
        "\n",
        "def generateOldDatasetWithoutSwappedColors():\n",
        "  y = df['Winner']\n",
        "  X = df.drop(columns = ['Winner'])\n",
        "  x_train, x_test, y_train, y_test = train_test_split(X, y, test_size=0.05, random_state=10)\n",
        "  return y, X, x_train, x_test, y_train, y_test\n"
      ],
      "execution_count": 0,
      "outputs": []
    },
    {
      "cell_type": "code",
      "metadata": {
        "id": "AQe5rQtcmdel",
        "colab_type": "code",
        "outputId": "c1c06e34-7021-490f-8427-2d559e63b461",
        "colab": {
          "base_uri": "https://localhost:8080/",
          "height": 238
        }
      },
      "source": [
        "generateBalancedDataSet = True\n",
        "\n",
        "if generateBalancedDataSet:\n",
        "  y, X, x_train, x_test, y_train, y_test = generateDoubleDatasetWithSwappedColors()\n",
        "else:\n",
        "  y, X, x_train, x_test, y_train, y_test = generateOldDatasetWithoutSwappedColors()"
      ],
      "execution_count": 4,
      "outputs": [
        {
          "output_type": "stream",
          "text": [
            "1    3592\n",
            "0    3592\n",
            "Name: Winner, dtype: int64\n",
            "0    555\n",
            "1    523\n",
            "Name: Winner, dtype: int64\n"
          ],
          "name": "stdout"
        },
        {
          "output_type": "stream",
          "text": [
            "/usr/local/lib/python3.6/dist-packages/ipykernel_launcher.py:28: FutureWarning: Sorting because non-concatenation axis is not aligned. A future version\n",
            "of pandas will change to not sort by default.\n",
            "\n",
            "To accept the future behavior, pass 'sort=False'.\n",
            "\n",
            "To retain the current behavior and silence the warning, pass 'sort=True'.\n",
            "\n"
          ],
          "name": "stderr"
        }
      ]
    },
    {
      "cell_type": "markdown",
      "metadata": {
        "id": "O1brEPrHen1e",
        "colab_type": "text"
      },
      "source": [
        "# **Defining functions for training classifiers**"
      ]
    },
    {
      "cell_type": "code",
      "metadata": {
        "id": "pTl_YdoSWjYS",
        "colab_type": "code",
        "colab": {}
      },
      "source": [
        "allClassifiers = ['randomForest', 'extraTrees','supportVector', 'xgboost', 'multiLayerPerceptron']\n",
        "\n",
        "# Method for filling results dictionary\n",
        "def fillResults(classifierName, accuracy, oob_score=0, predictions=0):\n",
        "  results[classifierName] = {}\n",
        "  results[classifierName]['accuracy'] = accuracy\n",
        "\n",
        "  if oob_score != 0:\n",
        "    results[classifierName]['oob'] = oob_score\n",
        "\n",
        "  try:\n",
        "    if predictions != 0:\n",
        "      print('no predictions passed')\n",
        "  except:\n",
        "     results[classifierName]['predictions'] = predictions\n",
        "\n",
        "\n",
        "def trainAndReturnRandomForest(n_estimators=1000):\n",
        "  parameters = {'bootstrap': True,\n",
        "              'min_samples_leaf': 3,\n",
        "              'n_estimators': n_estimators, \n",
        "              'min_samples_split': 10,\n",
        "              'max_features': 'sqrt',\n",
        "              'max_depth': 15,\n",
        "              'max_leaf_nodes': None,\n",
        "              'oob_score': True}\n",
        "\n",
        "  RF_model = RandomForestClassifier(**parameters)\n",
        "  RF_model.fit(x_train, y_train)\n",
        "  RF_predictions = RF_model.predict(x_test)\n",
        "  RF_score = accuracy_score(y_test ,RF_predictions)\n",
        "  RF_oob_score = RF_model.oob_score_\n",
        "\n",
        "  fillResults('randomForest', RF_score, oob_score=RF_oob_score, predictions=RF_predictions)\n",
        "  print('oob_score:',RF_score)\n",
        "  print('score:',RF_score)\n",
        "  RF_predictions_2 = RF_model.predict(x_train)\n",
        "  RF_score_2 = accuracy_score(y_train ,RF_predictions_2)\n",
        "  print('Cross validation, RF_score_2:', RF_score_2)\n",
        "\n",
        "  return RF_model\n",
        "\n",
        "def trainAndReturnExtraTrees():\n",
        "  ET_parameters = {'bootstrap': False,\n",
        "              'min_samples_leaf': 3,\n",
        "              'n_estimators': 1000, \n",
        "              'min_samples_split': 10,\n",
        "              'max_features': 'sqrt',\n",
        "              'max_depth': 15,\n",
        "              'max_leaf_nodes': None,\n",
        "              'oob_score': False}\n",
        "\n",
        "  ET_model = ExtraTreesClassifier(**ET_parameters)\n",
        "  ET_model.fit(x_train, y_train)\n",
        "  ET_predictions = ET_model.predict(x_test)\n",
        "  ET_score = accuracy_score(y_test ,ET_predictions)\n",
        " # ET_oob_score = ET_model.oob_score_\n",
        "\n",
        "  fillResults('extraTrees', ET_score, predictions=ET_predictions)\n",
        "  return ET_model\n",
        "\n",
        "def trainAndReturnSVC():\n",
        "  SVC_model = SVC(probability=True, gamma='scale')\n",
        "  SVC_model.fit(x_train, y_train)\n",
        "  SVC_predictions = SVC_model.predict(x_test)\n",
        "  SVC_score = accuracy_score(y_test, SVC_predictions)\n",
        "\n",
        "  fillResults('supportVector', SVC_score, predictions=SVC_predictions)\n",
        "  return SVC_model\n",
        "\n",
        "\n",
        "def trainAndReturnXGBoost():\n",
        "  XGB_model = XGBClassifier(early_stopping_rounds=2)\n",
        "  XGB_model.fit(x_train, y_train)\n",
        "  XGB_predictions = XGB_model.predict(x_test)\n",
        "  XGB_score = accuracy_score(y_test, XGB_predictions)\n",
        "\n",
        "  fillResults('xgboost', XGB_score, predictions=XGB_predictions)\n",
        "  return XGB_model\n",
        "\n",
        "def trainAndReturnMLP():\n",
        "  MLP_model = MLPClassifier(hidden_layer_sizes=(500,300,100,))\n",
        "  MLP_model.fit(x_train,y_train)\n",
        "  MLP_predictions = MLP_model.predict(x_test)\n",
        "  MLP_score = accuracy_score(y_test, MLP_predictions)\n",
        "\n",
        "  fillResults('multiLayerPerceptron', MLP_score, predictions=MLP_predictions)\n",
        "  return MLP_model\n",
        "\n",
        "\n",
        "def trainAllModelsAndFillResult():\n",
        "  trainAndReturnRandomForest()\n",
        "  trainAndReturnExtraTrees()\n",
        "  trainAndReturnSVC()\n",
        "  trainAndReturnXGBoost()\n",
        "  trainAndReturnMLP()\n",
        "\n",
        "  print(results)\n",
        "\n",
        "def trainAndFindBestET():\n",
        "  n_estimators = 50\n",
        "\n",
        "  models = []\n",
        "\n",
        "  for i in range(10, 2000, 50):\n",
        "      ET_parameters = {'bootstrap': False,\n",
        "              'min_samples_leaf': 3,\n",
        "              'n_estimators': 1000, \n",
        "              'min_samples_split': 10,\n",
        "              'max_features': 'sqrt',\n",
        "              'max_depth': 10 + (i/200),\n",
        "              'max_leaf_nodes': None,\n",
        "              'oob_score': False}\n",
        "\n",
        "      ET_model = ExtraTreesClassifier(**ET_parameters)\n",
        "      ET_model.fit(x_train, y_train)\n",
        "      ET_predictions = ET_model.predict(x_test)\n",
        "      ET_score = accuracy_score(y_test ,ET_predictions)\n",
        "      models.append((ET_model, ET_score, ET_predictions))\n",
        "      if ET_score > 0.60:\n",
        "        print('best model has acc:', ET_score)\n",
        "        return ET_model\n",
        "      print('i:', i, ' accuracy: ', ET_score)\n",
        "\n",
        "  best_model = models[0]\n",
        "  for model in models:\n",
        "    if model[1] > best_model[1]:\n",
        "      best_model = model\n",
        "\n",
        "  fillResults('extraTrees', best_model[1], predictions=best_model[2])\n",
        "  print('Best ET model has acc:', best_model[1])\n",
        "  return best_model[0]\n",
        "\n",
        "\n"
      ],
      "execution_count": 0,
      "outputs": []
    },
    {
      "cell_type": "markdown",
      "metadata": {
        "id": "KVfSQxEV_UZk",
        "colab_type": "text"
      },
      "source": [
        "# **Choosing and training model**\n",
        "- trainAllModelsAndFillResult trains all models and returns scores.\n",
        "- trainAndFindBestET trains Extra Trees model with different depths and returns the model with best results."
      ]
    },
    {
      "cell_type": "code",
      "metadata": {
        "id": "Jr4JTKM9_UL8",
        "colab_type": "code",
        "colab": {}
      },
      "source": [
        "#trainAllModelsAndFillResult()"
      ],
      "execution_count": 0,
      "outputs": []
    },
    {
      "cell_type": "code",
      "metadata": {
        "id": "FSEWGDnqBoZs",
        "colab_type": "code",
        "outputId": "08d74041-f416-4277-fb15-22ea8cc3823b",
        "colab": {
          "base_uri": "https://localhost:8080/",
          "height": 85
        }
      },
      "source": [
        "model = trainAndFindBestET()"
      ],
      "execution_count": 10,
      "outputs": [
        {
          "output_type": "stream",
          "text": [
            "i: 10  accuracy:  0.5918367346938775\n",
            "i: 60  accuracy:  0.5955473098330241\n",
            "i: 110  accuracy:  0.5983302411873841\n",
            "best model has acc: 0.6029684601113172\n"
          ],
          "name": "stdout"
        }
      ]
    },
    {
      "cell_type": "markdown",
      "metadata": {
        "id": "Vh5RVqnM41Ax",
        "colab_type": "text"
      },
      "source": [
        "# **Analysing features**"
      ]
    },
    {
      "cell_type": "markdown",
      "metadata": {
        "id": "zoruJsYX49TH",
        "colab_type": "text"
      },
      "source": [
        "Univariate selection"
      ]
    },
    {
      "cell_type": "code",
      "metadata": {
        "id": "3KjjRVXv5Arw",
        "colab_type": "code",
        "outputId": "c861643c-bae4-4a12-98b2-31aa5c892aaf",
        "colab": {
          "base_uri": "https://localhost:8080/",
          "height": 884
        }
      },
      "source": [
        "#apply SelectKBest class to extract top 50 best features\n",
        "bestfeatures = SelectKBest(score_func=chi2, k=50)\n",
        "fit = bestfeatures.fit(X,y)\n",
        "dfscores = pd.DataFrame(fit.scores_)\n",
        "dfcolumns = pd.DataFrame(X.columns)\n",
        "#concat two dataframes for better visualization \n",
        "featureScores = pd.concat([dfcolumns,dfscores],axis=1)\n",
        "featureScores.columns = ['Specs','Score']  #naming the dataframe columns\n",
        "print(featureScores.nlargest(50,'Score'))  #print 50 best features"
      ],
      "execution_count": 11,
      "outputs": [
        {
          "output_type": "stream",
          "text": [
            "                            Specs       Score\n",
            "133  R_total_time_fought(seconds)  376.444225\n",
            "62   B_total_time_fought(seconds)  376.444225\n",
            "126    R_avg_opp_TOTAL_STR_landed  294.408236\n",
            "55     B_avg_opp_TOTAL_STR_landed  294.408236\n",
            "85               R_avg_GROUND_att  266.872815\n",
            "14               B_avg_GROUND_att  266.872815\n",
            "23              B_avg_SIG_STR_att  244.814929\n",
            "94              R_avg_SIG_STR_att  244.814929\n",
            "109          R_avg_opp_GROUND_att  223.489113\n",
            "38           B_avg_opp_GROUND_att  223.489113\n",
            "16                 B_avg_HEAD_att  201.140337\n",
            "87                 R_avg_HEAD_att  201.140337\n",
            "95           R_avg_SIG_STR_landed  187.076704\n",
            "24           B_avg_SIG_STR_landed  187.076704\n",
            "39        B_avg_opp_GROUND_landed  181.819970\n",
            "110       R_avg_opp_GROUND_landed  181.819970\n",
            "15            B_avg_GROUND_landed  175.808224\n",
            "86            R_avg_GROUND_landed  175.808224\n",
            "41          B_avg_opp_HEAD_landed  163.401672\n",
            "112         R_avg_opp_HEAD_landed  163.401672\n",
            "17              B_avg_HEAD_landed  160.216865\n",
            "88              R_avg_HEAD_landed  160.216865\n",
            "30            B_avg_TOTAL_STR_att  156.615064\n",
            "101           R_avg_TOTAL_STR_att  156.615064\n",
            "119      R_avg_opp_SIG_STR_landed  150.545479\n",
            "48       B_avg_opp_SIG_STR_landed  150.545479\n",
            "125       R_avg_opp_TOTAL_STR_att  136.582216\n",
            "54        B_avg_opp_TOTAL_STR_att  136.582216\n",
            "83             R_avg_DISTANCE_att   99.141068\n",
            "12             B_avg_DISTANCE_att   99.141068\n",
            "102        R_avg_TOTAL_STR_landed   91.896402\n",
            "31         B_avg_TOTAL_STR_landed   91.896402\n",
            "84          R_avg_DISTANCE_landed   70.077541\n",
            "13          B_avg_DISTANCE_landed   70.077541\n",
            "27                   B_avg_TD_att   59.195708\n",
            "98                   R_avg_TD_att   59.195708\n",
            "57           B_current_win_streak   50.088760\n",
            "128          R_current_win_streak   50.088760\n",
            "111            R_avg_opp_HEAD_att   45.584114\n",
            "40             B_avg_opp_HEAD_att   45.584114\n",
            "99                R_avg_TD_landed   41.357150\n",
            "28                B_avg_TD_landed   41.357150\n",
            "7                           B_age   40.426636\n",
            "78                          R_age   40.426636\n",
            "47          B_avg_opp_SIG_STR_att   40.220458\n",
            "118         R_avg_opp_SIG_STR_att   40.220458\n",
            "59           B_longest_win_streak   34.892062\n",
            "130          R_longest_win_streak   34.892062\n",
            "105          R_avg_opp_CLINCH_att   32.989423\n",
            "34           B_avg_opp_CLINCH_att   32.989423\n"
          ],
          "name": "stdout"
        }
      ]
    },
    {
      "cell_type": "markdown",
      "metadata": {
        "id": "umKbPhDn5EKs",
        "colab_type": "text"
      },
      "source": [
        "Feature importance"
      ]
    },
    {
      "cell_type": "code",
      "metadata": {
        "id": "y9tOnkfG5Hi1",
        "colab_type": "code",
        "outputId": "aea020b0-18b5-4cd1-c8d9-44d6f149bd4d",
        "colab": {
          "base_uri": "https://localhost:8080/",
          "height": 265
        }
      },
      "source": [
        "#print(model.feature_importances_) #use inbuilt class feature_importances of tree based classifiers\n",
        "#plot graph of feature importances for better visualization\n",
        "feat_importances = pd.Series(model.feature_importances_, index=X.columns)\n",
        "feat_importances.nlargest(20).plot(kind='barh')\n",
        "plt.show()"
      ],
      "execution_count": 12,
      "outputs": [
        {
          "output_type": "display_data",
          "data": {
            "image/png": "[encoded data removed]",
            "text/plain": [
              "<Figure size 432x288 with 1 Axes>"
            ]
          },
          "metadata": {
            "tags": []
          }
        }
      ]
    },
    {
      "cell_type": "markdown",
      "metadata": {
        "id": "sHzfzMZT5Kvb",
        "colab_type": "text"
      },
      "source": [
        "Correlation matrix\n",
        "- Takes long time to generate, set true to do so."
      ]
    },
    {
      "cell_type": "code",
      "metadata": {
        "id": "Wo5BWueG5MXw",
        "colab_type": "code",
        "colab": {}
      },
      "source": [
        "doCorrelation = False\n",
        "if doCorrelation:\n",
        "  import seaborn as sns\n",
        "  #get correlations of each features in dataset\n",
        "  corrmat = df.corr()\n",
        "  top_corr_features = corrmat.index\n",
        "  plt.figure(figsize=(160,160))\n",
        "  #plot heat map\n",
        "  g=sns.heatmap(df[top_corr_features].corr(),annot=True,cmap=\"RdYlGn\")"
      ],
      "execution_count": 0,
      "outputs": []
    },
    {
      "cell_type": "markdown",
      "metadata": {
        "id": "hHT2xKExAHhY",
        "colab_type": "text"
      },
      "source": [
        "\n",
        "Confusion Matrix"
      ]
    },
    {
      "cell_type": "code",
      "metadata": {
        "id": "5qck1AgKznpr",
        "colab_type": "code",
        "outputId": "6b443c26-d676-4ac2-ad83-91466bb7f434",
        "colab": {
          "base_uri": "https://localhost:8080/",
          "height": 317
        }
      },
      "source": [
        "def plot_cm(classifierName):\n",
        "  from sklearn.metrics import accuracy_score, classification_report,confusion_matrix\n",
        "  from sklearn.utils.multiclass import unique_labels\n",
        "\n",
        "  cm = confusion_matrix(y_test, results[classifierName]['predictions'])\n",
        "  classes = unique_labels(y_test, results[classifierName]['predictions'])\n",
        "\n",
        "  fig, ax = plt.subplots()\n",
        "  im = ax.imshow(cm, interpolation='nearest', cmap=plt.cm.Blues)\n",
        "  ax.figure.colorbar(im, ax=ax)\n",
        "\n",
        "  ax.set(xticks=np.arange(cm.shape[1]),\n",
        "        yticks=np.arange(cm.shape[0]),\n",
        "        xticklabels=classes, yticklabels=classes,\n",
        "        title='CM ' + classifierName,\n",
        "        ylabel='True label',\n",
        "        xlabel='Predicted label')\n",
        "\n",
        "  fmt = 'd'\n",
        "  thresh = cm.max() / 10\n",
        "  for i in range(cm.shape[0]):\n",
        "      for j in range(cm.shape[1]):\n",
        "          ax.text(j, i, format(cm[i, j], fmt),\n",
        "                  horizontalalignment=\"right\",\n",
        "                  color=\"gray\" if cm[i, j] > thresh else \"gray\")\n",
        "  fig.tight_layout()\n",
        "  ax\n",
        "\n",
        "allClassifiers = ['randomForest', 'extraTrees','supportVector', 'xgboost', 'multiLayerPerceptron']\n",
        "\n",
        "for classifier in allClassifiers:\n",
        "  plot_cm(classifier)"
      ],
      "execution_count": 14,
      "outputs": [
        {
          "output_type": "error",
          "ename": "KeyError",
          "evalue": "ignored",
          "traceback": [
            "\u001b[0;31m---------------------------------------------------------------------------\u001b[0m",
            "\u001b[0;31mKeyError\u001b[0m                                  Traceback (most recent call last)",
            "\u001b[0;32m<ipython-input-14-3a124a5dad54>\u001b[0m in \u001b[0;36m<module>\u001b[0;34m()\u001b[0m\n\u001b[1;32m     30\u001b[0m \u001b[0;34m\u001b[0m\u001b[0m\n\u001b[1;32m     31\u001b[0m \u001b[0;32mfor\u001b[0m \u001b[0mclassifier\u001b[0m \u001b[0;32min\u001b[0m \u001b[0mallClassifiers\u001b[0m\u001b[0;34m:\u001b[0m\u001b[0;34m\u001b[0m\u001b[0;34m\u001b[0m\u001b[0m\n\u001b[0;32m---> 32\u001b[0;31m   \u001b[0mplot_cm\u001b[0m\u001b[0;34m(\u001b[0m\u001b[0mclassifier\u001b[0m\u001b[0;34m)\u001b[0m\u001b[0;34m\u001b[0m\u001b[0;34m\u001b[0m\u001b[0m\n\u001b[0m",
            "\u001b[0;32m<ipython-input-14-3a124a5dad54>\u001b[0m in \u001b[0;36mplot_cm\u001b[0;34m(classifierName)\u001b[0m\n\u001b[1;32m      3\u001b[0m   \u001b[0;32mfrom\u001b[0m \u001b[0msklearn\u001b[0m\u001b[0;34m.\u001b[0m\u001b[0mutils\u001b[0m\u001b[0;34m.\u001b[0m\u001b[0mmulticlass\u001b[0m \u001b[0;32mimport\u001b[0m \u001b[0munique_labels\u001b[0m\u001b[0;34m\u001b[0m\u001b[0;34m\u001b[0m\u001b[0m\n\u001b[1;32m      4\u001b[0m \u001b[0;34m\u001b[0m\u001b[0m\n\u001b[0;32m----> 5\u001b[0;31m   \u001b[0mcm\u001b[0m \u001b[0;34m=\u001b[0m \u001b[0mconfusion_matrix\u001b[0m\u001b[0;34m(\u001b[0m\u001b[0my_test\u001b[0m\u001b[0;34m,\u001b[0m \u001b[0mresults\u001b[0m\u001b[0;34m[\u001b[0m\u001b[0mclassifierName\u001b[0m\u001b[0;34m]\u001b[0m\u001b[0;34m[\u001b[0m\u001b[0;34m'predictions'\u001b[0m\u001b[0;34m]\u001b[0m\u001b[0;34m)\u001b[0m\u001b[0;34m\u001b[0m\u001b[0;34m\u001b[0m\u001b[0m\n\u001b[0m\u001b[1;32m      6\u001b[0m   \u001b[0mclasses\u001b[0m \u001b[0;34m=\u001b[0m \u001b[0munique_labels\u001b[0m\u001b[0;34m(\u001b[0m\u001b[0my_test\u001b[0m\u001b[0;34m,\u001b[0m \u001b[0mresults\u001b[0m\u001b[0;34m[\u001b[0m\u001b[0mclassifierName\u001b[0m\u001b[0;34m]\u001b[0m\u001b[0;34m[\u001b[0m\u001b[0;34m'predictions'\u001b[0m\u001b[0;34m]\u001b[0m\u001b[0;34m)\u001b[0m\u001b[0;34m\u001b[0m\u001b[0;34m\u001b[0m\u001b[0m\n\u001b[1;32m      7\u001b[0m \u001b[0;34m\u001b[0m\u001b[0m\n",
            "\u001b[0;31mKeyError\u001b[0m: 'randomForest'"
          ]
        }
      ]
    },
    {
      "cell_type": "markdown",
      "metadata": {
        "id": "ZOWzsT1HS5ak",
        "colab_type": "text"
      },
      "source": [
        "# **Graphs**\n",
        "\n"
      ]
    },
    {
      "cell_type": "markdown",
      "metadata": {
        "id": "_aTFNTg2S8ps",
        "colab_type": "text"
      },
      "source": [
        "Accuracy between different classifiers"
      ]
    },
    {
      "cell_type": "code",
      "metadata": {
        "id": "MahCJpjCS70W",
        "colab_type": "code",
        "outputId": "5050c5e0-32a4-4f46-ba23-6a5f2c93d449",
        "colab": {
          "base_uri": "https://localhost:8080/",
          "height": 569
        }
      },
      "source": [
        "from matplotlib.ticker import FuncFormatter\n",
        "\n",
        "def plot_accuracy_between_classifiers():\n",
        "  allClassifierNames = ['RF', 'XT','SVM', 'XGB', 'MLP']\n",
        "  fig, ax = plt.subplots()\n",
        "  global results\n",
        "  x = np.arange(5)\n",
        "  accuracies = []\n",
        "\n",
        "  for classifier in allClassifiers:\n",
        "    accuracies.append(results[classifier]['accuracy'])\n",
        "\n",
        "  plt.bar(x, accuracies)\n",
        "  plt.xticks(x, (allClassifierNames[0],allClassifierNames[1],allClassifierNames[2],allClassifierNames[3], allClassifierNames[4]))\n",
        "  ax.set_ylim(0.50, 0.62)\n",
        "  plt.show()\n",
        "\n",
        "plot_accuracy_between_classifiers()\n"
      ],
      "execution_count": 15,
      "outputs": [
        {
          "output_type": "error",
          "ename": "KeyError",
          "evalue": "ignored",
          "traceback": [
            "\u001b[0;31m---------------------------------------------------------------------------\u001b[0m",
            "\u001b[0;31mKeyError\u001b[0m                                  Traceback (most recent call last)",
            "\u001b[0;32m<ipython-input-15-e4ce2b4aa4fe>\u001b[0m in \u001b[0;36m<module>\u001b[0;34m()\u001b[0m\n\u001b[1;32m     16\u001b[0m   \u001b[0mplt\u001b[0m\u001b[0;34m.\u001b[0m\u001b[0mshow\u001b[0m\u001b[0;34m(\u001b[0m\u001b[0;34m)\u001b[0m\u001b[0;34m\u001b[0m\u001b[0;34m\u001b[0m\u001b[0m\n\u001b[1;32m     17\u001b[0m \u001b[0;34m\u001b[0m\u001b[0m\n\u001b[0;32m---> 18\u001b[0;31m \u001b[0mplot_accuracy_between_classifiers\u001b[0m\u001b[0;34m(\u001b[0m\u001b[0;34m)\u001b[0m\u001b[0;34m\u001b[0m\u001b[0;34m\u001b[0m\u001b[0m\n\u001b[0m",
            "\u001b[0;32m<ipython-input-15-e4ce2b4aa4fe>\u001b[0m in \u001b[0;36mplot_accuracy_between_classifiers\u001b[0;34m()\u001b[0m\n\u001b[1;32m      9\u001b[0m \u001b[0;34m\u001b[0m\u001b[0m\n\u001b[1;32m     10\u001b[0m   \u001b[0;32mfor\u001b[0m \u001b[0mclassifier\u001b[0m \u001b[0;32min\u001b[0m \u001b[0mallClassifiers\u001b[0m\u001b[0;34m:\u001b[0m\u001b[0;34m\u001b[0m\u001b[0;34m\u001b[0m\u001b[0m\n\u001b[0;32m---> 11\u001b[0;31m     \u001b[0maccuracies\u001b[0m\u001b[0;34m.\u001b[0m\u001b[0mappend\u001b[0m\u001b[0;34m(\u001b[0m\u001b[0mresults\u001b[0m\u001b[0;34m[\u001b[0m\u001b[0mclassifier\u001b[0m\u001b[0;34m]\u001b[0m\u001b[0;34m[\u001b[0m\u001b[0;34m'accuracy'\u001b[0m\u001b[0;34m]\u001b[0m\u001b[0;34m)\u001b[0m\u001b[0;34m\u001b[0m\u001b[0;34m\u001b[0m\u001b[0m\n\u001b[0m\u001b[1;32m     12\u001b[0m \u001b[0;34m\u001b[0m\u001b[0m\n\u001b[1;32m     13\u001b[0m   \u001b[0mplt\u001b[0m\u001b[0;34m.\u001b[0m\u001b[0mbar\u001b[0m\u001b[0;34m(\u001b[0m\u001b[0mx\u001b[0m\u001b[0;34m,\u001b[0m \u001b[0maccuracies\u001b[0m\u001b[0;34m)\u001b[0m\u001b[0;34m\u001b[0m\u001b[0;34m\u001b[0m\u001b[0m\n",
            "\u001b[0;31mKeyError\u001b[0m: 'randomForest'"
          ]
        },
        {
          "output_type": "display_data",
          "data": {
            "image/png": "[encoded data removed]",
            "text/plain": [
              "<Figure size 432x288 with 1 Axes>"
            ]
          },
          "metadata": {
            "tags": []
          }
        }
      ]
    },
    {
      "cell_type": "markdown",
      "metadata": {
        "id": "9aUDsu_btDx7",
        "colab_type": "text"
      },
      "source": [
        "# **Get updated data from fighter**\n",
        "- In order to simulate a fight we need to get the fighters' latest stats and create a row similar to the training data. "
      ]
    },
    {
      "cell_type": "code",
      "metadata": {
        "id": "z93XM4lRvVC0",
        "colab_type": "code",
        "colab": {}
      },
      "source": [
        "def getFight(name):\n",
        "  fighter_R_rows = ['date','R_current_lose_streak',\n",
        " 'R_current_win_streak' ,'R_draw' ,'R_avg_BODY_att' ,'R_avg_BODY_landed',\n",
        " 'R_avg_CLINCH_att' ,'R_avg_CLINCH_landed' ,'R_avg_DISTANCE_att',\n",
        " 'R_avg_DISTANCE_landed' ,'R_avg_GROUND_att' ,'R_avg_GROUND_landed',\n",
        " 'R_avg_HEAD_att' ,'R_avg_HEAD_landed' ,'R_avg_KD' ,'R_avg_LEG_att',\n",
        " 'R_avg_LEG_landed' ,'R_avg_PASS' ,'R_avg_REV' ,'R_avg_SIG_STR_att',\n",
        " 'R_avg_SIG_STR_landed' ,'R_avg_SIG_STR_pct' ,'R_avg_SUB_ATT' ,'R_avg_TD_att',\n",
        " 'R_avg_TD_landed' ,'R_avg_TD_pct' ,'R_avg_TOTAL_STR_att',\n",
        " 'R_avg_TOTAL_STR_landed' ,'R_longest_win_streak' ,'R_losses',\n",
        " 'R_avg_opp_BODY_att' ,'R_avg_opp_BODY_landed' ,'R_avg_opp_CLINCH_att',\n",
        " 'R_avg_opp_CLINCH_landed' ,'R_avg_opp_DISTANCE_att',\n",
        " 'R_avg_opp_DISTANCE_landed' ,'R_avg_opp_GROUND_att',\n",
        " 'R_avg_opp_GROUND_landed' ,'R_avg_opp_HEAD_att' ,'R_avg_opp_HEAD_landed',\n",
        " 'R_avg_opp_KD' ,'R_avg_opp_LEG_att' ,'R_avg_opp_LEG_landed',\n",
        " 'R_avg_opp_PASS' ,'R_avg_opp_REV' ,'R_avg_opp_SIG_STR_att',\n",
        " 'R_avg_opp_SIG_STR_landed' ,'R_avg_opp_SIG_STR_pct' ,'R_avg_opp_SUB_ATT',\n",
        " 'R_avg_opp_TD_att' ,'R_avg_opp_TD_landed' ,'R_avg_opp_TD_pct',\n",
        " 'R_avg_opp_TOTAL_STR_att' ,'R_avg_opp_TOTAL_STR_landed',\n",
        " 'R_total_rounds_fought' ,'R_total_time_fought(seconds)',\n",
        " 'R_total_title_bouts' ,'R_win_by_Decision_Majority',\n",
        " 'R_win_by_Decision_Split' ,'R_win_by_Decision_Unanimous' ,'R_win_by_KO/TKO',\n",
        " 'R_win_by_Submission' ,'R_win_by_TKO_Doctor_Stoppage' ,'R_wins',\n",
        " 'R_Height_cms' ,'R_Reach_cms' ,'R_Weight_lbs', 'R_age', 'R_Stance','weight_class']\n",
        "\n",
        "\n",
        "  fighter_B_rows = ['date','B_current_lose_streak',\n",
        "  'B_current_win_streak' ,'B_draw' ,'B_avg_BODY_att' ,'B_avg_BODY_landed',\n",
        "  'B_avg_CLINCH_att' ,'B_avg_CLINCH_landed' ,'B_avg_DISTANCE_att',\n",
        "  'B_avg_DISTANCE_landed' ,'B_avg_GROUND_att' ,'B_avg_GROUND_landed',\n",
        "  'B_avg_HEAD_att' ,'B_avg_HEAD_landed' ,'B_avg_KD' ,'B_avg_LEG_att',\n",
        "  'B_avg_LEG_landed' ,'B_avg_PASS' ,'B_avg_REV' ,'B_avg_SIG_STR_att',\n",
        "  'B_avg_SIG_STR_landed' ,'B_avg_SIG_STR_pct' ,'B_avg_SUB_ATT' ,'B_avg_TD_att',\n",
        "  'B_avg_TD_landed' ,'B_avg_TD_pct' ,'B_avg_TOTAL_STR_att',\n",
        "  'B_avg_TOTAL_STR_landed' ,'B_longest_win_streak' ,'B_losses',\n",
        "  'B_avg_opp_BODY_att' ,'B_avg_opp_BODY_landed' ,'B_avg_opp_CLINCH_att',\n",
        "  'B_avg_opp_CLINCH_landed' ,'B_avg_opp_DISTANCE_att',\n",
        "  'B_avg_opp_DISTANCE_landed' ,'B_avg_opp_GROUND_att',\n",
        "  'B_avg_opp_GROUND_landed' ,'B_avg_opp_HEAD_att' ,'B_avg_opp_HEAD_landed',\n",
        "  'B_avg_opp_KD' ,'B_avg_opp_LEG_att' ,'B_avg_opp_LEG_landed',\n",
        "  'B_avg_opp_PASS' ,'B_avg_opp_REV' ,'B_avg_opp_SIG_STR_att',\n",
        "  'B_avg_opp_SIG_STR_landed' ,'B_avg_opp_SIG_STR_pct' ,'B_avg_opp_SUB_ATT',\n",
        "  'B_avg_opp_TD_att' ,'B_avg_opp_TD_landed' ,'B_avg_opp_TD_pct',\n",
        "  'B_avg_opp_TOTAL_STR_att' ,'B_avg_opp_TOTAL_STR_landed',\n",
        "  'B_total_rounds_fought' ,'B_total_time_fought(seconds)',\n",
        "  'B_total_title_bouts' ,'B_win_by_Decision_Majority',\n",
        "  'B_win_by_Decision_Split' ,'B_win_by_Decision_Unanimous' ,'B_win_by_KO/TKO',\n",
        "  'B_win_by_Submission' ,'B_win_by_TKO_Doctor_Stoppage' ,'B_wins',\n",
        "  'B_Height_cms' ,'B_Reach_cms' ,'B_Weight_lbs','B_age', 'B_Stance', 'weight_class']\n",
        "  fD = pd.read_csv('https://raw.githubusercontent.com/nystuen/UFC_Fight_Prediction/master/data2.csv')\n",
        "  hasRedFight = False\n",
        "  hasBlueFight = False\n",
        "\n",
        "  try:\n",
        "    latest_red_fight_fighter_B = fD.loc[fD['R_fighter'] == name][fighter_R_rows].iloc[0]\n",
        "    hasRedFight = True\n",
        "  except:\n",
        "    print('could not find fight in fred corner for fighter:', name)\n",
        "\n",
        "  try:\n",
        "    latest_blue_fight_fighter_B = fD.loc[fD['B_fighter'] == name][fighter_B_rows].iloc[0]\n",
        "    hasBlueFight = True\n",
        "  except:\n",
        "    print('could not find fight in blue corner for fighter:', name)  \n",
        "\n",
        "\n",
        "\n",
        "  if hasRedFight and hasBlueFight :\n",
        "     if latest_blue_fight_fighter_B.date > latest_red_fight_fighter_B.date:\n",
        "       return latest_blue_fight_fighter_B\n",
        "     else:\n",
        "       return latest_red_fight_fighter_B\n",
        "  elif hasRedFight:\n",
        "    return latest_red_fight_fighter_B\n",
        "  elif hasBlueFight:\n",
        "    return latest_blue_fight_fighter_B\n",
        "  else:\n",
        "    raise Exception(\"Sorry, could not find a previous fight for this fighter\")\n"
      ],
      "execution_count": 0,
      "outputs": []
    },
    {
      "cell_type": "code",
      "metadata": {
        "colab_type": "code",
        "id": "7sk4A7Bq2yH8",
        "colab": {}
      },
      "source": [
        "def defineColumns():\n",
        "  firstTwoColums = ['title_bout' ,'no_of_rounds']\n",
        "\n",
        "  blueColumns = ['B_current_lose_streak',\n",
        "  'B_current_win_streak' ,'B_draw' ,'B_avg_BODY_att' ,'B_avg_BODY_landed',\n",
        "  'B_avg_CLINCH_att' ,'B_avg_CLINCH_landed' ,'B_avg_DISTANCE_att',\n",
        "  'B_avg_DISTANCE_landed' ,'B_avg_GROUND_att' ,'B_avg_GROUND_landed',\n",
        "  'B_avg_HEAD_att' ,'B_avg_HEAD_landed' ,'B_avg_KD' ,'B_avg_LEG_att',\n",
        "  'B_avg_LEG_landed' ,'B_avg_PASS' ,'B_avg_REV' ,'B_avg_SIG_STR_att',\n",
        "  'B_avg_SIG_STR_landed' ,'B_avg_SIG_STR_pct' ,'B_avg_SUB_ATT' ,'B_avg_TD_att',\n",
        "  'B_avg_TD_landed' ,'B_avg_TD_pct' ,'B_avg_TOTAL_STR_att',\n",
        "  'B_avg_TOTAL_STR_landed' ,'B_longest_win_streak' ,'B_losses',\n",
        "  'B_avg_opp_BODY_att' ,'B_avg_opp_BODY_landed' ,'B_avg_opp_CLINCH_att',\n",
        "  'B_avg_opp_CLINCH_landed' ,'B_avg_opp_DISTANCE_att',\n",
        "  'B_avg_opp_DISTANCE_landed' ,'B_avg_opp_GROUND_att',\n",
        "  'B_avg_opp_GROUND_landed' ,'B_avg_opp_HEAD_att' ,'B_avg_opp_HEAD_landed',\n",
        "  'B_avg_opp_KD' ,'B_avg_opp_LEG_att' ,'B_avg_opp_LEG_landed',\n",
        "  'B_avg_opp_PASS' ,'B_avg_opp_REV' ,'B_avg_opp_SIG_STR_att',\n",
        "  'B_avg_opp_SIG_STR_landed' ,'B_avg_opp_SIG_STR_pct' ,'B_avg_opp_SUB_ATT',\n",
        "  'B_avg_opp_TD_att' ,'B_avg_opp_TD_landed' ,'B_avg_opp_TD_pct',\n",
        "  'B_avg_opp_TOTAL_STR_att' ,'B_avg_opp_TOTAL_STR_landed',\n",
        "  'B_total_rounds_fought' ,'B_total_time_fought(seconds)',\n",
        "  'B_total_title_bouts' ,'B_win_by_Decision_Majority',\n",
        "  'B_win_by_Decision_Split' ,'B_win_by_Decision_Unanimous' ,'B_win_by_KO/TKO',\n",
        "  'B_win_by_Submission' ,'B_win_by_TKO_Doctor_Stoppage' ,'B_wins',\n",
        "  'B_Height_cms' ,'B_Reach_cms' ,'B_Weight_lbs','B_age', 'B_Stance_Open Stance' ,'B_Stance_Orthodox' ,\n",
        " 'B_Stance_Southpaw']\n",
        "\n",
        "  redColumns = ['R_current_lose_streak',\n",
        " 'R_current_win_streak' ,'R_draw' ,'R_avg_BODY_att' ,'R_avg_BODY_landed',\n",
        " 'R_avg_CLINCH_att' ,'R_avg_CLINCH_landed' ,'R_avg_DISTANCE_att',\n",
        " 'R_avg_DISTANCE_landed' ,'R_avg_GROUND_att' ,'R_avg_GROUND_landed',\n",
        " 'R_avg_HEAD_att' ,'R_avg_HEAD_landed' ,'R_avg_KD' ,'R_avg_LEG_att',\n",
        " 'R_avg_LEG_landed' ,'R_avg_PASS' ,'R_avg_REV' ,'R_avg_SIG_STR_att',\n",
        " 'R_avg_SIG_STR_landed' ,'R_avg_SIG_STR_pct' ,'R_avg_SUB_ATT' ,'R_avg_TD_att',\n",
        " 'R_avg_TD_landed' ,'R_avg_TD_pct' ,'R_avg_TOTAL_STR_att',\n",
        " 'R_avg_TOTAL_STR_landed' ,'R_longest_win_streak' ,'R_losses',\n",
        " 'R_avg_opp_BODY_att' ,'R_avg_opp_BODY_landed' ,'R_avg_opp_CLINCH_att',\n",
        " 'R_avg_opp_CLINCH_landed' ,'R_avg_opp_DISTANCE_att',\n",
        " 'R_avg_opp_DISTANCE_landed' ,'R_avg_opp_GROUND_att',\n",
        " 'R_avg_opp_GROUND_landed' ,'R_avg_opp_HEAD_att' ,'R_avg_opp_HEAD_landed',\n",
        " 'R_avg_opp_KD' ,'R_avg_opp_LEG_att' ,'R_avg_opp_LEG_landed',\n",
        " 'R_avg_opp_PASS' ,'R_avg_opp_REV' ,'R_avg_opp_SIG_STR_att',\n",
        " 'R_avg_opp_SIG_STR_landed' ,'R_avg_opp_SIG_STR_pct' ,'R_avg_opp_SUB_ATT',\n",
        " 'R_avg_opp_TD_att' ,'R_avg_opp_TD_landed' ,'R_avg_opp_TD_pct',\n",
        " 'R_avg_opp_TOTAL_STR_att' ,'R_avg_opp_TOTAL_STR_landed',\n",
        " 'R_total_rounds_fought' ,'R_total_time_fought(seconds)',\n",
        " 'R_total_title_bouts' ,'R_win_by_Decision_Majority',\n",
        " 'R_win_by_Decision_Split' ,'R_win_by_Decision_Unanimous' ,'R_win_by_KO/TKO',\n",
        " 'R_win_by_Submission' ,'R_win_by_TKO_Doctor_Stoppage' ,'R_wins',\n",
        " 'R_Height_cms' ,'R_Reach_cms' ,'R_Weight_lbs','R_Stance_Open Stance',\n",
        " 'R_Stance_Orthodox' ,'R_Stance_Southpaw']\n",
        "\n",
        "\n",
        "  all_rows = ['title_bout' ,'no_of_rounds' ,'B_current_lose_streak',\n",
        " 'B_current_win_streak' ,'B_draw' ,'B_avg_BODY_att' ,'B_avg_BODY_landed',\n",
        " 'B_avg_CLINCH_att' ,'B_avg_CLINCH_landed' ,'B_avg_DISTANCE_att',\n",
        " 'B_avg_DISTANCE_landed' ,'B_avg_GROUND_att' ,'B_avg_GROUND_landed',\n",
        " 'B_avg_HEAD_att' ,'B_avg_HEAD_landed' ,'B_avg_KD' ,'B_avg_LEG_att',\n",
        " 'B_avg_LEG_landed' ,'B_avg_PASS' ,'B_avg_REV' ,'B_avg_SIG_STR_att',\n",
        " 'B_avg_SIG_STR_landed' ,'B_avg_SIG_STR_pct' ,'B_avg_SUB_ATT' ,'B_avg_TD_att',\n",
        " 'B_avg_TD_landed' ,'B_avg_TD_pct' ,'B_avg_TOTAL_STR_att',\n",
        " 'B_avg_TOTAL_STR_landed' ,'B_longest_win_streak' ,'B_losses',\n",
        " 'B_avg_opp_BODY_att' ,'B_avg_opp_BODY_landed' ,'B_avg_opp_CLINCH_att',\n",
        " 'B_avg_opp_CLINCH_landed' ,'B_avg_opp_DISTANCE_att',\n",
        " 'B_avg_opp_DISTANCE_landed' ,'B_avg_opp_GROUND_att',\n",
        " 'B_avg_opp_GROUND_landed' ,'B_avg_opp_HEAD_att' ,'B_avg_opp_HEAD_landed',\n",
        " 'B_avg_opp_KD' ,'B_avg_opp_LEG_att' ,'B_avg_opp_LEG_landed',\n",
        " 'B_avg_opp_PASS' ,'B_avg_opp_REV' ,'B_avg_opp_SIG_STR_att',\n",
        " 'B_avg_opp_SIG_STR_landed' ,'B_avg_opp_SIG_STR_pct' ,'B_avg_opp_SUB_ATT',\n",
        " 'B_avg_opp_TD_att' ,'B_avg_opp_TD_landed' ,'B_avg_opp_TD_pct',\n",
        " 'B_avg_opp_TOTAL_STR_att' ,'B_avg_opp_TOTAL_STR_landed',\n",
        " 'B_total_rounds_fought' ,'B_total_time_fought(seconds)',\n",
        " 'B_total_title_bouts' ,'B_win_by_Decision_Majority',\n",
        " 'B_win_by_Decision_Split' ,'B_win_by_Decision_Unanimous' ,'B_win_by_KO/TKO',\n",
        " 'B_win_by_Submission' ,'B_win_by_TKO_Doctor_Stoppage' ,'B_wins',\n",
        " 'B_Height_cms' ,'B_Reach_cms' ,'B_Weight_lbs' ,'R_current_lose_streak',\n",
        " 'R_current_win_streak' ,'R_draw' ,'R_avg_BODY_att' ,'R_avg_BODY_landed',\n",
        " 'R_avg_CLINCH_att' ,'R_avg_CLINCH_landed' ,'R_avg_DISTANCE_att',\n",
        " 'R_avg_DISTANCE_landed' ,'R_avg_GROUND_att' ,'R_avg_GROUND_landed',\n",
        " 'R_avg_HEAD_att' ,'R_avg_HEAD_landed' ,'R_avg_KD' ,'R_avg_LEG_att',\n",
        " 'R_avg_LEG_landed' ,'R_avg_PASS' ,'R_avg_REV' ,'R_avg_SIG_STR_att',\n",
        " 'R_avg_SIG_STR_landed' ,'R_avg_SIG_STR_pct' ,'R_avg_SUB_ATT' ,'R_avg_TD_att',\n",
        " 'R_avg_TD_landed' ,'R_avg_TD_pct' ,'R_avg_TOTAL_STR_att',\n",
        " 'R_avg_TOTAL_STR_landed' ,'R_longest_win_streak' ,'R_losses',\n",
        " 'R_avg_opp_BODY_att' ,'R_avg_opp_BODY_landed' ,'R_avg_opp_CLINCH_att',\n",
        " 'R_avg_opp_CLINCH_landed' ,'R_avg_opp_DISTANCE_att',\n",
        " 'R_avg_opp_DISTANCE_landed' ,'R_avg_opp_GROUND_att',\n",
        " 'R_avg_opp_GROUND_landed' ,'R_avg_opp_HEAD_att' ,'R_avg_opp_HEAD_landed',\n",
        " 'R_avg_opp_KD' ,'R_avg_opp_LEG_att' ,'R_avg_opp_LEG_landed',\n",
        " 'R_avg_opp_PASS' ,'R_avg_opp_REV' ,'R_avg_opp_SIG_STR_att',\n",
        " 'R_avg_opp_SIG_STR_landed' ,'R_avg_opp_SIG_STR_pct' ,'R_avg_opp_SUB_ATT',\n",
        " 'R_avg_opp_TD_att' ,'R_avg_opp_TD_landed' ,'R_avg_opp_TD_pct',\n",
        " 'R_avg_opp_TOTAL_STR_att' ,'R_avg_opp_TOTAL_STR_landed',\n",
        " 'R_total_rounds_fought' ,'R_total_time_fought(seconds)',\n",
        " 'R_total_title_bouts' ,'R_win_by_Decision_Majority',\n",
        " 'R_win_by_Decision_Split' ,'R_win_by_Decision_Unanimous' ,'R_win_by_KO/TKO',\n",
        " 'R_win_by_Submission' ,'R_win_by_TKO_Doctor_Stoppage' ,'R_wins',\n",
        " 'R_Height_cms' ,'R_Reach_cms' ,'R_Weight_lbs' ,'B_age' ,'R_age',\n",
        " 'weight_class_Bantamweight' ,'weight_class_Catch Weight',\n",
        " 'weight_class_Featherweight' ,'weight_class_Flyweight',\n",
        " 'weight_class_Heavyweight' ,'weight_class_Light Heavyweight',\n",
        " 'weight_class_Lightweight' ,'weight_class_Middleweight',\n",
        " 'weight_class_Open Weight' ,'weight_class_Welterweight',\n",
        " 'weight_class_Womens_Bantamweight' ,'weight_class_Womens_Featherweight',\n",
        " 'weight_class_Womens_Flyweight' ,'weight_class_Womens_Strawweight',\n",
        "  'B_Stance_Open Stance', 'B_Stance_Orthodox', 'B_Stance_Southpaw',\n",
        " 'B_Stance_Switch', 'R_Stance_Open Stance', 'R_Stance_Orthodox',\n",
        " 'R_Stance_Southpaw', 'R_Stance_Switch']\n",
        "\n",
        "  weightClassColumns = ['weight_class_Bantamweight', 'weight_class_Catch Weight',\n",
        " 'weight_class_Featherweight' ,'weight_class_Flyweight',\n",
        " 'weight_class_Heavyweight' ,'weight_class_Light Heavyweight',\n",
        " 'weight_class_Lightweight' ,'weight_class_Middleweight',\n",
        " 'weight_class_Open Weight' ,'weight_class_Welterweight',\n",
        " 'weight_class_Womens_Bantamweight' ,'weight_class_Womens_Featherweight',\n",
        " 'weight_class_Womens_Flyweight' ,'weight_class_Womens_Strawweight']\n",
        "\n",
        "  return firstTwoColums, blueColumns, redColumns, all_rows, weightClassColumns\n",
        "\n",
        "firstTwoColumns, blueColumns, redColumns, all_rows, weightClassColumns = defineColumns()\n",
        "\n",
        "def csvDf(dat,**kwargs): \n",
        "  from numpy import array\n",
        "  data = array(dat)\n",
        "  if data is None or len(data)==0 or len(data[0])==0:\n",
        "    return None\n",
        "  else:\n",
        "    return pd.DataFrame(data[1:,1:],index=data[1:,0],columns=data[0,1:],**kwargs)\n",
        "\n",
        "\n",
        "def getFightersOriginalColor(fighter_R):\n",
        "      try:\n",
        "        if(fighter_R.R_age):\n",
        "          return 'R'\n",
        "      except:\n",
        "        return 'B'   \n",
        "\n",
        "def getStanceArray(stance, color):\n",
        "  stance = stance.lower()\n",
        "  stanceBlueArray = [0, 0, 0, 0];\n",
        "  stanceRedArray = [0, 0, 0, 0]\n",
        "  isRed = color == 'R'\n",
        " \n",
        "  if stance == 'open stance':\n",
        "    if isRed:\n",
        "      stanceRedArray[0] = 1\n",
        "    else:\n",
        "      stanceBlueArray[0] = 1\n",
        "\n",
        "  elif stance == 'orthodox':\n",
        "    if isRed:\n",
        "      stanceRedArray[1] = 1\n",
        "    else:\n",
        "      stanceBlueArray[1] = 1\n",
        "  elif stance == 'sideways':\n",
        "      stanceBlueArray[2] = 1\n",
        "  elif stance == 'southpaw':\n",
        "    if isRed:\n",
        "      stanceRedArray[2] = 1\n",
        "    else:\n",
        "      stanceBlueArray[2] = 1\n",
        "  elif stance == 'switch':\n",
        "    if isRed:\n",
        "      stanceRedArray[3] = 1\n",
        "    else:\n",
        "      stanceBlueArray[3] = 1\n",
        "  \n",
        "\n",
        "  if isRed:\n",
        "    return stanceRedArray\n",
        "  else:\n",
        "    return stanceBlueArray\n",
        "\n",
        "\n",
        "def getIndexOfStringInArray(array, string):\n",
        "  for i in range(len(array)):\n",
        "    if(array[i].lower() == string.lower()):\n",
        "      return i\n",
        "  return -1\n",
        "\n",
        "\n",
        "def getWeightClassArray(weightClass):\n",
        "\n",
        "  weightClasses = ['Bantamweight', 'Catch Weight',\n",
        "                 'Featherweight', 'Flyweight',\n",
        "                 'Heavyweight', 'Light Heavyweight',\n",
        "                 'Lightweight', 'Middleweight',\n",
        "                 'Open Weight', 'Welterweight',\n",
        "                 'Womens Bantamweight', 'Womens Featherweight',\n",
        "                 'Womens Flyweight', 'Womens Strawweight']\n",
        "\n",
        "  weightClassArray = np.zeros(len(weightClasses))\n",
        "  index = getIndexOfStringInArray(weightClasses, weightClass)\n",
        "  weightClassArray[index] = 1\n",
        "  return weightClassArray\n",
        "\n",
        "\n",
        "\n",
        "def getDataFrame(fighter_R_name, fighter_B_name):\n",
        "\n",
        "  global all_rows\n",
        "  fighter_1_data = getFight(fighter_R_name)\n",
        "  fighter_2_data = getFight(fighter_B_name)\n",
        "\n",
        "  final_rows = []\n",
        "  first_two_rows = []\n",
        "  ages = []\n",
        "  fighter_1_stance_array = []\n",
        "  fighter_2_stance_array = []\n",
        "  weight_class_array = []\n",
        "\n",
        "\n",
        "  # Which color is fighter 1 and fighter 2 originally in the dataset?\n",
        "  fighter_1_color_original = getFightersOriginalColor(fighter_1_data)\n",
        "  fighter_2_color_original = getFightersOriginalColor(fighter_2_data)\n",
        "\n",
        "\n",
        "  # Which color is fighter 1 and fighter two in this fight?\n",
        "  fighter_1_color = 'R'\n",
        "  fighter_2_color = 'B'\n",
        "\n",
        "\n",
        "  # Prepare first two columns in data\n",
        "  title_bout = 0\n",
        "  no_of_rounds = 3\n",
        "  first_two_rows.append(title_bout)\n",
        "  first_two_rows.append(no_of_rounds)\n",
        "  \n",
        "\n",
        "  # Retrieve ages of both fighters, b_age is first then r_age\n",
        "  if(fighter_2_color_original == 'R'):\n",
        "    ages.append(fighter_2_data.R_age)\n",
        "  else:\n",
        "    ages.append(fighter_2_data.B_age)\n",
        "\n",
        "  if(fighter_1_color_original == 'R'):\n",
        "    ages.append(fighter_1_data.R_age)\n",
        "  else:\n",
        "    ages.append(fighter_1_data.B_age)\n",
        "\n",
        "\n",
        "  # Retrieve stancearrays for both fighters, B is first\n",
        "  if(fighter_2_color_original == 'R'):\n",
        "    fighter_2_stance_array = getStanceArray(fighter_2_data.R_Stance, fighter_2_color)\n",
        "  else:  \n",
        "    fighter_2_stance_array = getStanceArray(fighter_2_data.B_Stance, fighter_2_color)\n",
        "\n",
        "  if(fighter_1_color_original == 'R'):\n",
        "    fighter_1_stance_array = getStanceArray(fighter_1_data.R_Stance,fighter_1_color)\n",
        "  else:  \n",
        "    fighter_1_stance_array = getStanceArray(fighter_1_data.B_Stance,fighter_1_color)\n",
        "\n",
        "\n",
        "  # Retrieve which weightclass we are in\n",
        "  weight_class_array = getWeightClassArray(fighter_1_data.weight_class)\n",
        "  fighter_R = getFight(fighter_R_name)\n",
        "\n",
        "  # Make one huge row of all arrays\n",
        "  # first we need to two three last columns from fighter 1 and 2 data\n",
        "\n",
        "  fighter_1_data = fighter_1_data.drop(\"weight_class\")\n",
        "  fighter_2_data = fighter_2_data.drop(\"weight_class\")\n",
        "  fighter_1_data = fighter_1_data.drop(\"date\")\n",
        "  fighter_2_data = fighter_2_data.drop(\"date\")\n",
        "  if fighter_1_color_original == 'R':\n",
        "    fighter_1_data = fighter_1_data.drop(\"R_Stance\")\n",
        "    fighter_1_data = fighter_1_data.drop(\"R_age\")\n",
        "  else:\n",
        "    fighter_1_data = fighter_1_data.drop(\"B_Stance\")\n",
        "    fighter_1_data = fighter_1_data.drop(\"B_age\")\n",
        "\n",
        "  if fighter_2_color_original == 'R':\n",
        "    fighter_2_data = fighter_2_data.drop(\"R_Stance\")\n",
        "    fighter_2_data = fighter_2_data.drop(\"R_age\")\n",
        "  else:\n",
        "    fighter_2_data = fighter_2_data.drop(\"B_Stance\")\n",
        "    fighter_2_data = fighter_2_data.drop(\"B_age\")\n",
        "\n",
        " \n",
        "  weight_class_array = list(map(int, weight_class_array))\n",
        "  \n",
        "  final_rows = first_two_rows + list(fighter_1_data) + list(fighter_2_data)+ ages + weight_class_array + fighter_2_stance_array + fighter_1_stance_array\n",
        "  return final_rows\n"
      ],
      "execution_count": 0,
      "outputs": []
    },
    {
      "cell_type": "markdown",
      "metadata": {
        "id": "2ujN5HRAzxrK",
        "colab_type": "text"
      },
      "source": [
        "# **Defining functions for probability of win both normally and independently of corner color**"
      ]
    },
    {
      "cell_type": "code",
      "metadata": {
        "id": "Hn59oosmyPoJ",
        "colab_type": "code",
        "colab": {}
      },
      "source": [
        "def getFightPredictionProbability(fighter_A, fighter_B):\n",
        "  \n",
        "  # Run prediction \n",
        "  df = getDataFrame(fighter_A, fighter_B)\n",
        "  data = [[' '] + all_rows, [' '] + df]\n",
        "  df = pd.DataFrame(csvDf(data))\n",
        "  [prob_A,prob_B] = model.predict_proba(df)[0]\n",
        "  \n",
        "  if prob_A > prob_B:\n",
        "    return (fighter_A, prob_A)\n",
        "  elif prob_A < prob_B:\n",
        "    return (fighter_B, prob_B)\n",
        "  else:\n",
        "    return ('Tie', 0.5)  \n",
        "\n",
        "def getFightPredictionProbablityIndependentlyOfCorner(fighter_A, fighter_B):\n",
        "\n",
        "  # Run prediction \n",
        "  df = getDataFrame(fighter_A, fighter_B)\n",
        "  data = [[' '] + all_rows, [' '] + df]\n",
        "  df = pd.DataFrame(csvDf(data))\n",
        "  [blue_prob_A,red_prob_B] = model.predict_proba(df)[0]\n",
        "\n",
        "  ## Run prediction again with switches corners\n",
        "  df = getDataFrame(fighter_B, fighter_A)\n",
        "  data = [[' '] + all_rows, [' '] + df]\n",
        "  df = pd.DataFrame(csvDf(data))\n",
        "  [blue_prob_B,red_prob_A] = model.predict_proba(df)[0]\n",
        "\n",
        "  #print('red_prob_A',red_prob_A)\n",
        "  #print('blue_prob_A',blue_prob_A)\n",
        "  #print('red_prob_B',red_prob_B )\n",
        "  #print('blue_prob_B',blue_prob_B)\n",
        "\n",
        "  prob_A = (red_prob_A + blue_prob_A)/2\n",
        "  prob_B = (red_prob_B + blue_prob_B)/2\n",
        "\n",
        "  if prob_A > prob_B:\n",
        "    return (fighter_A, prob_A)\n",
        "  elif prob_A < prob_B:\n",
        "    return (fighter_B, prob_B)\n",
        "  else:\n",
        "    return ('Tie', 0.5)  "
      ],
      "execution_count": 0,
      "outputs": []
    },
    {
      "cell_type": "markdown",
      "metadata": {
        "id": "4be9xN6-9ULY",
        "colab_type": "text"
      },
      "source": [
        "# **UFC Fight Predictor**\n"
      ]
    },
    {
      "cell_type": "code",
      "metadata": {
        "id": "6MhwVtf-9a3f",
        "colab_type": "code",
        "colab": {}
      },
      "source": [
        "def pred():\n",
        "  print(' Name of fighter A')\n",
        "  fighter_A = input()\n",
        "  print(' Name of fighter B')\n",
        "  fighter_B = input()\n",
        "\n",
        "  print('Predicting....')\n",
        "  (winner, prob) = getFightPredictionProbability(fighter_A,fighter_B)\n",
        "\n",
        "  print(\"The winner will be \" + winner)\n",
        "\n",
        "pred()"
      ],
      "execution_count": 0,
      "outputs": []
    }
  ]
}